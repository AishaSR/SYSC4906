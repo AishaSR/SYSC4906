{
  "nbformat": 4,
  "nbformat_minor": 0,
  "metadata": {
    "colab": {
      "name": "Lecture_13.ipynb",
      "provenance": [],
      "include_colab_link": true
    },
    "kernelspec": {
      "name": "python3",
      "display_name": "Python 3"
    }
  },
  "cells": [
    {
      "cell_type": "markdown",
      "metadata": {
        "id": "view-in-github",
        "colab_type": "text"
      },
      "source": [
        "<a href=\"https://colab.research.google.com/github/jrgreen7/SYSC4906/blob/master/Lecture_13.ipynb\" target=\"_parent\"><img src=\"https://colab.research.google.com/assets/colab-badge.svg\" alt=\"Open In Colab\"/></a>"
      ]
    },
    {
      "cell_type": "markdown",
      "metadata": {
        "id": "wuqvpmiI2OkI",
        "colab_type": "text"
      },
      "source": [
        "Notebook to illustrate effect of using drop-out during training of feed-forward neural network for classifying MNIST digits dataset.\n",
        "\n",
        "Based on excellent tutorial by Cory Maklin available at: https://towardsdatascience.com/machine-learning-part-20-dropout-keras-layers-explained-8c9f6dc4c9ab"
      ]
    },
    {
      "cell_type": "code",
      "metadata": {
        "id": "HPFuYHlZ2NoW",
        "colab_type": "code",
        "outputId": "499c59f7-13ca-4ddc-e096-f43ce084975b",
        "colab": {
          "base_uri": "https://localhost:8080/",
          "height": 361
        }
      },
      "source": [
        "# Step 0: import required libraries\n",
        "from keras.datasets import mnist\n",
        "from matplotlib import pyplot as plt\n",
        "#plt.style.use('dark_background')\n",
        "from keras.models import Sequential\n",
        "from keras.layers import Dense, Flatten, Activation, Dropout\n",
        "from keras.utils import normalize, to_categorical\n",
        "\n",
        "# Step 1: load the MNIST digits dataset pre-split into train/test\n",
        "(X_train, y_train), (X_test, y_test) = mnist.load_data()\n",
        "\n",
        "# Visualize the first training exemplar:\n",
        "plt.imshow(X_train[0], cmap = plt.cm.binary)\n",
        "plt.show()"
      ],
      "execution_count": 1,
      "outputs": [
        {
          "output_type": "stream",
          "text": [
            "Using TensorFlow backend.\n"
          ],
          "name": "stderr"
        },
        {
          "output_type": "display_data",
          "data": {
            "text/html": [
              "<p style=\"color: red;\">\n",
              "The default version of TensorFlow in Colab will soon switch to TensorFlow 2.x.<br>\n",
              "We recommend you <a href=\"https://www.tensorflow.org/guide/migrate\" target=\"_blank\">upgrade</a> now \n",
              "or ensure your notebook will continue to use TensorFlow 1.x via the <code>%tensorflow_version 1.x</code> magic:\n",
              "<a href=\"https://colab.research.google.com/notebooks/tensorflow_version.ipynb\" target=\"_blank\">more info</a>.</p>\n"
            ],
            "text/plain": [
              "<IPython.core.display.HTML object>"
            ]
          },
          "metadata": {
            "tags": []
          }
        },
        {
          "output_type": "stream",
          "text": [
            "Downloading data from https://s3.amazonaws.com/img-datasets/mnist.npz\n",
            "11493376/11490434 [==============================] - 1s 0us/step\n"
          ],
          "name": "stdout"
        },
        {
          "output_type": "display_data",
          "data": {
            "image/png": "[encoded data removed]",
            "text/plain": [
              "<Figure size 432x288 with 1 Axes>"
            ]
          },
          "metadata": {
            "tags": []
          }
        }
      ]
    },
    {
      "cell_type": "code",
      "metadata": {
        "id": "funWVJsG32MA",
        "colab_type": "code",
        "colab": {}
      },
      "source": [
        "# Normalize the input images to speed training (model convergence)\n",
        "X_train = normalize(X_train, axis=1)\n",
        "X_test = normalize(X_test, axis=1)\n",
        "\n",
        "# Use one-hot encoding of target/output variable\n",
        "# Avoids unintended relationships between output values \n",
        "#(e.g. is confusing a '3' as a '2' less bad than confusing\n",
        "# a '3' as a '9'? No. So avoid 3 being \"closer\" to '2' than '9')\n",
        "y_train = to_categorical(y_train)\n",
        "y_test = to_categorical(y_test)\n"
      ],
      "execution_count": 0,
      "outputs": []
    },
    {
      "cell_type": "markdown",
      "metadata": {
        "id": "FS1TWC8U4lYq",
        "colab_type": "text"
      },
      "source": [
        "# Create a model without dropout\n",
        "\n",
        "Will:\n",
        "- Create the FFNN model\n",
        "- Include a 'flatten' layer to convert the input images into input vectors\n",
        "- Print summary of the model, including number of parameters in each layer.\n"
      ]
    },
    {
      "cell_type": "code",
      "metadata": {
        "id": "GmgWVOvg4fRH",
        "colab_type": "code",
        "outputId": "8b4f0877-6919-4fa3-ceee-8a3d9a6e5588",
        "colab": {
          "base_uri": "https://localhost:8080/",
          "height": 574
        }
      },
      "source": [
        "# Build the feed-forward neural network:\n",
        "model = Sequential()\n",
        "model.add(Flatten(input_shape=(28, 28)))\n",
        "model.add(Dense(128))\n",
        "model.add(Activation('relu'))\n",
        "model.add(Dense(128))\n",
        "model.add(Activation('relu'))\n",
        "model.add(Dense(10))\n",
        "model.add(Activation('softmax')) # Use softmax since multi-class\n",
        "\n",
        "# Print summary of model:\n",
        "model.summary()\n",
        "\n",
        "## Compile the model\n",
        "# Use categorical crossentroly as loss function since predicting classes\n",
        "# Performance measured using accurcay.\n",
        "# ADAM variant of gradient descent used for training.\n",
        "model.compile(\n",
        "    loss='categorical_crossentropy',\n",
        "    optimizer='adam',\n",
        "    metrics=['accuracy']\n",
        ")"
      ],
      "execution_count": 3,
      "outputs": [
        {
          "output_type": "stream",
          "text": [
            "WARNING:tensorflow:From /usr/local/lib/python3.6/dist-packages/keras/backend/tensorflow_backend.py:66: The name tf.get_default_graph is deprecated. Please use tf.compat.v1.get_default_graph instead.\n",
            "\n",
            "WARNING:tensorflow:From /usr/local/lib/python3.6/dist-packages/keras/backend/tensorflow_backend.py:541: The name tf.placeholder is deprecated. Please use tf.compat.v1.placeholder instead.\n",
            "\n",
            "WARNING:tensorflow:From /usr/local/lib/python3.6/dist-packages/keras/backend/tensorflow_backend.py:4432: The name tf.random_uniform is deprecated. Please use tf.random.uniform instead.\n",
            "\n",
            "Model: \"sequential_1\"\n",
            "_________________________________________________________________\n",
            "Layer (type)                 Output Shape              Param #   \n",
            "=================================================================\n",
            "flatten_1 (Flatten)          (None, 784)               0         \n",
            "_________________________________________________________________\n",
            "dense_1 (Dense)              (None, 128)               100480    \n",
            "_________________________________________________________________\n",
            "activation_1 (Activation)    (None, 128)               0         \n",
            "_________________________________________________________________\n",
            "dense_2 (Dense)              (None, 128)               16512     \n",
            "_________________________________________________________________\n",
            "activation_2 (Activation)    (None, 128)               0         \n",
            "_________________________________________________________________\n",
            "dense_3 (Dense)              (None, 10)                1290      \n",
            "_________________________________________________________________\n",
            "activation_3 (Activation)    (None, 10)                0         \n",
            "=================================================================\n",
            "Total params: 118,282\n",
            "Trainable params: 118,282\n",
            "Non-trainable params: 0\n",
            "_________________________________________________________________\n",
            "WARNING:tensorflow:From /usr/local/lib/python3.6/dist-packages/keras/optimizers.py:793: The name tf.train.Optimizer is deprecated. Please use tf.compat.v1.train.Optimizer instead.\n",
            "\n",
            "WARNING:tensorflow:From /usr/local/lib/python3.6/dist-packages/keras/backend/tensorflow_backend.py:3576: The name tf.log is deprecated. Please use tf.math.log instead.\n",
            "\n"
          ],
          "name": "stdout"
        }
      ]
    },
    {
      "cell_type": "code",
      "metadata": {
        "id": "ZqE8iqjq7Gc5",
        "colab_type": "code",
        "colab": {}
      },
      "source": [
        "# Train the model using the training data\n",
        "# Test data will evaluate degree of overfit (with/without dropout)\n",
        "\n",
        "# Use a batch size of 32 (32 training samples chosen randomly per batch prior to updating weights)\n",
        "# From the tutorial: \"A batch size of 32 implies that we will compute the gradient and take a step in the direction of the gradient with a magnitude equal to the learning rate, after having pass 32 samples through the neural network. We do this a total of 10 times as specified by the number of epochs.\""
      ],
      "execution_count": 0,
      "outputs": []
    },
    {
      "cell_type": "markdown",
      "metadata": {
        "id": "s9ksbYIjUZtE",
        "colab_type": "text"
      },
      "source": [
        "# Train a model without dropout.\n",
        "- Train the model using the training data\n",
        "- Later, test data will evaluate degree of overfit (with/without dropout)\n",
        "\n",
        "##Training Parameters:\n",
        "- Batch size of 32: (32 training samples are chosen randomly per batch prior to updating weights)\n",
        "     - From the tutorial: \"A batch size of 32 implies that we will compute the gradient and take a step in the direction of the gradient with a magnitude equal to the learning rate, after having pass 32 samples through the neural network. We do this a total of 10 times as specified by the number of epochs.\"\n",
        "- Validation split parameter: that fraction of the training data is set aside (hold-out set) as a validation set. At each epoch, the loss and other stipulated metrics are evaluated on the train and validation portions of the data. Can plot these.\n",
        "- Shuffle parameter: shuffles the training data before each epoch"
      ]
    },
    {
      "cell_type": "code",
      "metadata": {
        "id": "yOLmeyNL7o-_",
        "colab_type": "code",
        "outputId": "8c2613dd-d53e-4ae7-fc6c-b75dc8876f1e",
        "colab": {
          "base_uri": "https://localhost:8080/",
          "height": 709
        }
      },
      "source": [
        "history = model.fit(\n",
        "    X_train,\n",
        "    y_train,\n",
        "    epochs=10,\n",
        "    batch_size=32,\n",
        "    validation_split=0.1,\n",
        "    verbose = 1,\n",
        "    shuffle=True\n",
        ")"
      ],
      "execution_count": 5,
      "outputs": [
        {
          "output_type": "stream",
          "text": [
            "WARNING:tensorflow:From /usr/local/lib/python3.6/dist-packages/tensorflow_core/python/ops/math_grad.py:1424: where (from tensorflow.python.ops.array_ops) is deprecated and will be removed in a future version.\n",
            "Instructions for updating:\n",
            "Use tf.where in 2.0, which has the same broadcast rule as np.where\n",
            "WARNING:tensorflow:From /usr/local/lib/python3.6/dist-packages/keras/backend/tensorflow_backend.py:1033: The name tf.assign_add is deprecated. Please use tf.compat.v1.assign_add instead.\n",
            "\n",
            "WARNING:tensorflow:From /usr/local/lib/python3.6/dist-packages/keras/backend/tensorflow_backend.py:1020: The name tf.assign is deprecated. Please use tf.compat.v1.assign instead.\n",
            "\n",
            "WARNING:tensorflow:From /usr/local/lib/python3.6/dist-packages/keras/backend/tensorflow_backend.py:3005: The name tf.Session is deprecated. Please use tf.compat.v1.Session instead.\n",
            "\n",
            "Train on 54000 samples, validate on 6000 samples\n",
            "Epoch 1/10\n",
            "WARNING:tensorflow:From /usr/local/lib/python3.6/dist-packages/keras/backend/tensorflow_backend.py:190: The name tf.get_default_session is deprecated. Please use tf.compat.v1.get_default_session instead.\n",
            "\n",
            "WARNING:tensorflow:From /usr/local/lib/python3.6/dist-packages/keras/backend/tensorflow_backend.py:197: The name tf.ConfigProto is deprecated. Please use tf.compat.v1.ConfigProto instead.\n",
            "\n",
            "WARNING:tensorflow:From /usr/local/lib/python3.6/dist-packages/keras/backend/tensorflow_backend.py:207: The name tf.global_variables is deprecated. Please use tf.compat.v1.global_variables instead.\n",
            "\n",
            "WARNING:tensorflow:From /usr/local/lib/python3.6/dist-packages/keras/backend/tensorflow_backend.py:216: The name tf.is_variable_initialized is deprecated. Please use tf.compat.v1.is_variable_initialized instead.\n",
            "\n",
            "WARNING:tensorflow:From /usr/local/lib/python3.6/dist-packages/keras/backend/tensorflow_backend.py:223: The name tf.variables_initializer is deprecated. Please use tf.compat.v1.variables_initializer instead.\n",
            "\n",
            "54000/54000 [==============================] - 8s 139us/step - loss: 0.2866 - acc: 0.9161 - val_loss: 0.1327 - val_acc: 0.9588\n",
            "Epoch 2/10\n",
            "54000/54000 [==============================] - 7s 123us/step - loss: 0.1168 - acc: 0.9639 - val_loss: 0.0983 - val_acc: 0.9695\n",
            "Epoch 3/10\n",
            "54000/54000 [==============================] - 6s 118us/step - loss: 0.0793 - acc: 0.9757 - val_loss: 0.0911 - val_acc: 0.9702\n",
            "Epoch 4/10\n",
            "54000/54000 [==============================] - 6s 117us/step - loss: 0.0592 - acc: 0.9814 - val_loss: 0.0885 - val_acc: 0.9745\n",
            "Epoch 5/10\n",
            "54000/54000 [==============================] - 6s 115us/step - loss: 0.0446 - acc: 0.9851 - val_loss: 0.0882 - val_acc: 0.9748\n",
            "Epoch 6/10\n",
            "54000/54000 [==============================] - 6s 114us/step - loss: 0.0348 - acc: 0.9882 - val_loss: 0.0955 - val_acc: 0.9742\n",
            "Epoch 7/10\n",
            "54000/54000 [==============================] - 7s 122us/step - loss: 0.0261 - acc: 0.9916 - val_loss: 0.0825 - val_acc: 0.9795\n",
            "Epoch 8/10\n",
            "54000/54000 [==============================] - 6s 118us/step - loss: 0.0222 - acc: 0.9925 - val_loss: 0.0841 - val_acc: 0.9780\n",
            "Epoch 9/10\n",
            "54000/54000 [==============================] - 7s 121us/step - loss: 0.0205 - acc: 0.9926 - val_loss: 0.1031 - val_acc: 0.9760\n",
            "Epoch 10/10\n",
            "54000/54000 [==============================] - 6s 117us/step - loss: 0.0150 - acc: 0.9946 - val_loss: 0.0966 - val_acc: 0.9767\n"
          ],
          "name": "stdout"
        }
      ]
    },
    {
      "cell_type": "code",
      "metadata": {
        "id": "yiAscdgF70sM",
        "colab_type": "code",
        "outputId": "1a824803-bd9b-4b5f-e47a-1a1bd3bcee2d",
        "colab": {
          "base_uri": "https://localhost:8080/",
          "height": 295
        }
      },
      "source": [
        "# We can plot the training and validation accuracies at each epoch by using\n",
        "# the history variable returned by the fit function.\n",
        "\n",
        "loss = history.history['loss']\n",
        "val_loss = history.history['val_loss']\n",
        "epochs = range(1, len(loss) + 1)\n",
        "plt.plot(epochs, loss, 'y', label='Training loss')\n",
        "plt.plot(epochs, val_loss, 'r', label='Validation loss')\n",
        "plt.title('Training and validation loss')\n",
        "plt.xlabel('Epochs')\n",
        "plt.ylabel('Loss')\n",
        "plt.legend()\n",
        "plt.show()"
      ],
      "execution_count": 6,
      "outputs": [
        {
          "output_type": "display_data",
          "data": {
            "image/png": "[encoded data removed]",
            "text/plain": [
              "<Figure size 432x288 with 1 Axes>"
            ]
          },
          "metadata": {
            "tags": []
          }
        }
      ]
    },
    {
      "cell_type": "markdown",
      "metadata": {
        "id": "32XJik-O78EL",
        "colab_type": "text"
      },
      "source": [
        "# Performance without dropout\n",
        "Note from the above figure that the validation loss stops dropping after the first 3 epochs.\n",
        "\n",
        "Let's look at the training and validation accuracy (will follow the same trend as the loss)"
      ]
    },
    {
      "cell_type": "code",
      "metadata": {
        "id": "9xXbDZ1r8K0q",
        "colab_type": "code",
        "outputId": "8c5a8579-cfc6-4a2d-8917-ee1e541cdd6c",
        "colab": {
          "base_uri": "https://localhost:8080/",
          "height": 295
        }
      },
      "source": [
        "acc = history.history['acc']\n",
        "val_acc = history.history['val_acc']\n",
        "plt.plot(epochs, acc, 'y', label='Training acc')\n",
        "plt.plot(epochs, val_acc, 'r', label='Validation acc')\n",
        "plt.title('Training and validation accuracy')\n",
        "plt.xlabel('Epochs')\n",
        "plt.ylabel('Accuracy')\n",
        "plt.legend()\n",
        "plt.show()"
      ],
      "execution_count": 7,
      "outputs": [
        {
          "output_type": "display_data",
          "data": {
            "image/png": "[encoded data removed]",
            "text/plain": [
              "<Figure size 432x288 with 1 Axes>"
            ]
          },
          "metadata": {
            "tags": []
          }
        }
      ]
    },
    {
      "cell_type": "code",
      "metadata": {
        "id": "WkT05AVq8SX6",
        "colab_type": "code",
        "outputId": "d6dd90df-1aa0-404b-c382-8ba51f0e7e6b",
        "colab": {
          "base_uri": "https://localhost:8080/",
          "height": 50
        }
      },
      "source": [
        "# Report final test accuracy (~97.4%):\n",
        "test_loss, test_acc = model.evaluate(X_test, y_test)\n",
        "test_acc"
      ],
      "execution_count": 8,
      "outputs": [
        {
          "output_type": "stream",
          "text": [
            "10000/10000 [==============================] - 0s 30us/step\n"
          ],
          "name": "stdout"
        },
        {
          "output_type": "execute_result",
          "data": {
            "text/plain": [
              "0.9742"
            ]
          },
          "metadata": {
            "tags": []
          },
          "execution_count": 8
        }
      ]
    },
    {
      "cell_type": "markdown",
      "metadata": {
        "id": "IRPnGHFJ8YCh",
        "colab_type": "text"
      },
      "source": [
        "# Add drop-out to the model\n",
        "From the tutorial: \"There’s some debate as to whether the dropout should be placed before or after the activation function. As a rule of thumb, place the dropout after the activate function for all activation functions other than ReLU.\"\n",
        "\n",
        "In Keras, the parameter passed to a Dropout layer dictates the probablity of any given hidden unit having its output set to zero during a training iteration. Here, we use 0.5, which indicates a \"50% chance that the output of a given neuron will be forced to 0.\""
      ]
    },
    {
      "cell_type": "code",
      "metadata": {
        "id": "YztyjFhh8njB",
        "colab_type": "code",
        "outputId": "3680c14b-5c6a-4210-cda5-d9fe2b862531",
        "colab": {
          "base_uri": "https://localhost:8080/",
          "height": 558
        }
      },
      "source": [
        "# Rebuild the model, this time adding drop-out of 50% of nodes\n",
        "\n",
        "model_dropout = Sequential()\n",
        "model_dropout.add(Flatten(input_shape=(28, 28)))\n",
        "model_dropout.add(Dense(128))\n",
        "model_dropout.add(Dropout(0.5))\n",
        "model_dropout.add(Activation('relu'))\n",
        "model_dropout.add(Dense(128))\n",
        "model_dropout.add(Dropout(0.5))\n",
        "model_dropout.add(Activation('relu'))\n",
        "model_dropout.add(Dense(10))\n",
        "model_dropout.add(Activation('softmax'))\n",
        "model_dropout.summary()\n",
        "\n",
        "# Compile the model (same as above)\n",
        "model_dropout.compile(\n",
        "    loss='categorical_crossentropy',\n",
        "    optimizer='adam',\n",
        "    metrics=['accuracy']\n",
        ")"
      ],
      "execution_count": 9,
      "outputs": [
        {
          "output_type": "stream",
          "text": [
            "WARNING:tensorflow:From /usr/local/lib/python3.6/dist-packages/keras/backend/tensorflow_backend.py:148: The name tf.placeholder_with_default is deprecated. Please use tf.compat.v1.placeholder_with_default instead.\n",
            "\n",
            "WARNING:tensorflow:From /usr/local/lib/python3.6/dist-packages/keras/backend/tensorflow_backend.py:3733: calling dropout (from tensorflow.python.ops.nn_ops) with keep_prob is deprecated and will be removed in a future version.\n",
            "Instructions for updating:\n",
            "Please use `rate` instead of `keep_prob`. Rate should be set to `rate = 1 - keep_prob`.\n",
            "Model: \"sequential_2\"\n",
            "_________________________________________________________________\n",
            "Layer (type)                 Output Shape              Param #   \n",
            "=================================================================\n",
            "flatten_2 (Flatten)          (None, 784)               0         \n",
            "_________________________________________________________________\n",
            "dense_4 (Dense)              (None, 128)               100480    \n",
            "_________________________________________________________________\n",
            "dropout_1 (Dropout)          (None, 128)               0         \n",
            "_________________________________________________________________\n",
            "activation_4 (Activation)    (None, 128)               0         \n",
            "_________________________________________________________________\n",
            "dense_5 (Dense)              (None, 128)               16512     \n",
            "_________________________________________________________________\n",
            "dropout_2 (Dropout)          (None, 128)               0         \n",
            "_________________________________________________________________\n",
            "activation_5 (Activation)    (None, 128)               0         \n",
            "_________________________________________________________________\n",
            "dense_6 (Dense)              (None, 10)                1290      \n",
            "_________________________________________________________________\n",
            "activation_6 (Activation)    (None, 10)                0         \n",
            "=================================================================\n",
            "Total params: 118,282\n",
            "Trainable params: 118,282\n",
            "Non-trainable params: 0\n",
            "_________________________________________________________________\n"
          ],
          "name": "stdout"
        }
      ]
    },
    {
      "cell_type": "markdown",
      "metadata": {
        "id": "5iTQVB2n9aEO",
        "colab_type": "text"
      },
      "source": [
        "Train the model using dropout. Hoping to see lower validation loss and higher validation accuracy..."
      ]
    },
    {
      "cell_type": "code",
      "metadata": {
        "id": "Q_g-t86E9iic",
        "colab_type": "code",
        "outputId": "a63f0e93-9939-49f7-da39-be117f658756",
        "colab": {
          "base_uri": "https://localhost:8080/",
          "height": 370
        }
      },
      "source": [
        "history_dropout = model_dropout.fit(\n",
        "    X_train,\n",
        "    y_train,\n",
        "    epochs=10,\n",
        "    batch_size=32,\n",
        "    validation_split=0.1,\n",
        "    verbose = 1,\n",
        "    shuffle=True\n",
        ")"
      ],
      "execution_count": 10,
      "outputs": [
        {
          "output_type": "stream",
          "text": [
            "Train on 54000 samples, validate on 6000 samples\n",
            "Epoch 1/10\n",
            "54000/54000 [==============================] - 8s 142us/step - loss: 0.5446 - acc: 0.8325 - val_loss: 0.1559 - val_acc: 0.9545\n",
            "Epoch 2/10\n",
            "54000/54000 [==============================] - 8s 139us/step - loss: 0.2908 - acc: 0.9170 - val_loss: 0.1270 - val_acc: 0.9638\n",
            "Epoch 3/10\n",
            "54000/54000 [==============================] - 8s 147us/step - loss: 0.2432 - acc: 0.9292 - val_loss: 0.1097 - val_acc: 0.9670\n",
            "Epoch 4/10\n",
            "54000/54000 [==============================] - 8s 146us/step - loss: 0.2110 - acc: 0.9378 - val_loss: 0.0966 - val_acc: 0.9712\n",
            "Epoch 5/10\n",
            "54000/54000 [==============================] - 7s 134us/step - loss: 0.1961 - acc: 0.9425 - val_loss: 0.0935 - val_acc: 0.9710\n",
            "Epoch 6/10\n",
            "54000/54000 [==============================] - 7s 133us/step - loss: 0.1817 - acc: 0.9472 - val_loss: 0.0959 - val_acc: 0.9720\n",
            "Epoch 7/10\n",
            "54000/54000 [==============================] - 7s 132us/step - loss: 0.1704 - acc: 0.9505 - val_loss: 0.0839 - val_acc: 0.9758\n",
            "Epoch 8/10\n",
            "54000/54000 [==============================] - 7s 124us/step - loss: 0.1648 - acc: 0.9513 - val_loss: 0.0840 - val_acc: 0.9760\n",
            "Epoch 9/10\n",
            "54000/54000 [==============================] - 6s 120us/step - loss: 0.1510 - acc: 0.9552 - val_loss: 0.0850 - val_acc: 0.9777\n",
            "Epoch 10/10\n",
            "54000/54000 [==============================] - 6s 120us/step - loss: 0.1517 - acc: 0.9555 - val_loss: 0.0840 - val_acc: 0.9768\n"
          ],
          "name": "stdout"
        }
      ]
    },
    {
      "cell_type": "markdown",
      "metadata": {
        "id": "GZt7KwAe9mHk",
        "colab_type": "text"
      },
      "source": [
        "Note that the **validation** loss achieved above using drop-out is lower than the model that did not use drop-out (0.8 vs. 0.9). The training loss is **higher** using drop-out.\n",
        "\n",
        "Let's plot it:"
      ]
    },
    {
      "cell_type": "code",
      "metadata": {
        "id": "2VY4GvDZ9xAV",
        "colab_type": "code",
        "colab": {
          "base_uri": "https://localhost:8080/",
          "height": 295
        },
        "outputId": "98402f32-79de-49f7-9685-ec27ef78e011"
      },
      "source": [
        "loss = history_dropout.history['loss']\n",
        "val_loss = history_dropout.history['val_loss']\n",
        "epochs = range(1, len(loss) + 1)\n",
        "plt.plot(epochs, loss, 'y', label='Training loss')\n",
        "plt.plot(epochs, val_loss, 'r', label='Validation loss')\n",
        "plt.title('Training and validation loss')\n",
        "plt.xlabel('Epochs')\n",
        "plt.ylabel('Loss')\n",
        "plt.legend()\n",
        "plt.show()"
      ],
      "execution_count": 11,
      "outputs": [
        {
          "output_type": "display_data",
          "data": {
            "image/png": "[encoded data removed]",
            "text/plain": [
              "<Figure size 432x288 with 1 Axes>"
            ]
          },
          "metadata": {
            "tags": []
          }
        }
      ]
    },
    {
      "cell_type": "markdown",
      "metadata": {
        "id": "plxNICnZ995r",
        "colab_type": "text"
      },
      "source": [
        "From the learning curves above, you can see that the model with dropout converges more quickly, whereas the previous model plateaued after 3 epochs.\n",
        "\n",
        "Let's examine the training and validation accuracy (more or less follows inverse of loss function):"
      ]
    },
    {
      "cell_type": "code",
      "metadata": {
        "id": "Y9ECvzMA972c",
        "colab_type": "code",
        "colab": {
          "base_uri": "https://localhost:8080/",
          "height": 295
        },
        "outputId": "5a1eaca9-c070-4b9a-b3c2-f294c7e5cd5b"
      },
      "source": [
        "acc = history_dropout.history['acc']\n",
        "val_acc = history_dropout.history['val_acc']\n",
        "plt.plot(epochs, acc, 'y', label='Training acc')\n",
        "plt.plot(epochs, val_acc, 'r', label='Validation acc')\n",
        "plt.title('Training and validation accuracy')\n",
        "plt.xlabel('Epochs')\n",
        "plt.ylabel('Accuracy')\n",
        "plt.legend()\n",
        "plt.show()"
      ],
      "execution_count": 12,
      "outputs": [
        {
          "output_type": "display_data",
          "data": {
            "image/png": "[encoded data removed]",
            "text/plain": [
              "<Figure size 432x288 with 1 Axes>"
            ]
          },
          "metadata": {
            "tags": []
          }
        }
      ]
    },
    {
      "cell_type": "markdown",
      "metadata": {
        "id": "2SRrm8MQ-AZC",
        "colab_type": "text"
      },
      "source": [
        "Although the validation accuracy was much improved with dropout, when we test the final model on the withheld test data, no significant change in accuracy is observed between dropout/no-dropout. Perhaps a larger test set is required?"
      ]
    },
    {
      "cell_type": "code",
      "metadata": {
        "id": "hAuEzZ0O-BYr",
        "colab_type": "code",
        "colab": {
          "base_uri": "https://localhost:8080/",
          "height": 50
        },
        "outputId": "036f97e4-3713-437c-cbb1-17108c02cc4c"
      },
      "source": [
        "test_loss, test_acc = model_dropout.evaluate(X_test, y_test)\n",
        "test_acc"
      ],
      "execution_count": 13,
      "outputs": [
        {
          "output_type": "stream",
          "text": [
            "10000/10000 [==============================] - 0s 33us/step\n"
          ],
          "name": "stdout"
        },
        {
          "output_type": "execute_result",
          "data": {
            "text/plain": [
              "0.9714"
            ]
          },
          "metadata": {
            "tags": []
          },
          "execution_count": 13
        }
      ]
    },
    {
      "cell_type": "markdown",
      "metadata": {
        "id": "aNp3XboD-Eba",
        "colab_type": "text"
      },
      "source": [
        "#Final Thoughts\n",
        "From Cory Maklin: \"Dropout can help a model generalize by randomly setting the output for a given neuron to 0. In setting the output to 0, the cost function becomes more sensitive to neighbouring neurons changing the way the weights will be updated during the process of backpropagation.\""
      ]
    }
  ]
}