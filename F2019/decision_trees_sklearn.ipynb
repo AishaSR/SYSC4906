{
  "nbformat": 4,
  "nbformat_minor": 0,
  "metadata": {
    "kernelspec": {
      "display_name": "Python 3",
      "language": "python",
      "name": "python3"
    },
    "language_info": {
      "codemirror_mode": {
        "name": "ipython",
        "version": 3
      },
      "file_extension": ".py",
      "mimetype": "text/x-python",
      "name": "python",
      "nbconvert_exporter": "python",
      "pygments_lexer": "ipython3",
      "version": "3.6.5"
    },
    "colab": {
      "name": "decision_trees_sklearn.ipynb",
      "version": "0.3.2",
      "provenance": []
    }
  },
  "cells": [
    {
      "cell_type": "markdown",
      "metadata": {
        "id": "M2eE7Dym_a2x",
        "colab_type": "text"
      },
      "source": [
        "# Decision Tree implementation in Python\n",
        "This notebook describes a basic implementation of a decision tree classifier using scikit-learn. If not already installed, you can install scikit-learn on your machine using this link: https://scikit-learn.org/stable/install.html."
      ]
    },
    {
      "cell_type": "markdown",
      "metadata": {
        "id": "wNOEAcTw_a20",
        "colab_type": "text"
      },
      "source": [
        "We will take the first four columns as our features and the species column as our target variable. We will do a 75-25% split of the data as the training data and the test data. We need to shuffle the data in order to do this so that our data is a good representative of the population."
      ]
    },
    {
      "cell_type": "code",
      "metadata": {
        "id": "KU5tlqIt_a21",
        "colab_type": "code",
        "colab": {}
      },
      "source": [
        "# importing the iris dataset\n",
        "from sklearn import datasets\n",
        "from sklearn.model_selection import train_test_split\n",
        "\n",
        "iris = datasets.load_iris()\n",
        "X = iris.data\n",
        "y = iris.target\n",
        "\n",
        "X_train, X_test, y_train, y_test = train_test_split(\n",
        "    X, y, test_size = 0.33, random_state = 42, shuffle = True)"
      ],
      "execution_count": 0,
      "outputs": []
    },
    {
      "cell_type": "code",
      "metadata": {
        "id": "XIYMHF14_a40",
        "colab_type": "code",
        "colab": {
          "base_uri": "https://localhost:8080/",
          "height": 118
        },
        "outputId": "470df4cc-e01b-4a99-89c4-75c0055fec81"
      },
      "source": [
        "# building our decision tree classifier and fitting the model\n",
        "from sklearn import tree\n",
        "\n",
        "model = tree.DecisionTreeClassifier()\n",
        "model.fit(X_train, y_train)"
      ],
      "execution_count": 3,
      "outputs": [
        {
          "output_type": "execute_result",
          "data": {
            "text/plain": [
              "DecisionTreeClassifier(class_weight=None, criterion='gini', max_depth=None,\n",
              "                       max_features=None, max_leaf_nodes=None,\n",
              "                       min_impurity_decrease=0.0, min_impurity_split=None,\n",
              "                       min_samples_leaf=1, min_samples_split=2,\n",
              "                       min_weight_fraction_leaf=0.0, presort=False,\n",
              "                       random_state=None, splitter='best')"
            ]
          },
          "metadata": {
            "tags": []
          },
          "execution_count": 3
        }
      ]
    },
    {
      "cell_type": "markdown",
      "metadata": {
        "id": "ULU3o1Ed_a43",
        "colab_type": "text"
      },
      "source": [
        "The output above shows us the value of the parameters (also called as hyperparameters) used by the classifier. We used it with the default values for all the parameters."
      ]
    },
    {
      "cell_type": "code",
      "metadata": {
        "id": "ZSn_ZvuR_a44",
        "colab_type": "code",
        "colab": {
          "base_uri": "https://localhost:8080/",
          "height": 50
        },
        "outputId": "005e056d-563b-4a5b-d2b8-61bd80553267"
      },
      "source": [
        "# predicting on the train and the test data and assessing the accuracies\n",
        "from sklearn.metrics import accuracy_score\n",
        "\n",
        "pred_train = model.predict(X_train)\n",
        "pred_test = model.predict(X_test)\n",
        "train_accuracy = accuracy_score(y_train, pred_train)\n",
        "test_accuracy = accuracy_score(y_test, pred_test)\n",
        "print('Training accuracy is: {0}'.format(train_accuracy))\n",
        "print('Testing accuracy is: {0}'.format(test_accuracy))"
      ],
      "execution_count": 4,
      "outputs": [
        {
          "output_type": "stream",
          "text": [
            "Training accuracy is: 1.0\n",
            "Testing accuracy is: 0.98\n"
          ],
          "name": "stdout"
        }
      ]
    },
    {
      "cell_type": "code",
      "metadata": {
        "id": "8urg96sO_a47",
        "colab_type": "code",
        "colab": {
          "base_uri": "https://localhost:8080/",
          "height": 50
        },
        "outputId": "fb0cb722-1c6d-4df1-b9ce-e1090416c49a"
      },
      "source": [
        "# calculating the accuracy again with max_depth = 2\n",
        "\n",
        "model2 = tree.DecisionTreeClassifier(max_depth = 2)\n",
        "model2.fit(X_train, y_train)\n",
        "\n",
        "pred_train = model2.predict(X_train)\n",
        "pred_test = model2.predict(X_test)\n",
        "train_accuracy = accuracy_score(y_train, pred_train)\n",
        "test_accuracy = accuracy_score(y_test, pred_test)\n",
        "print('Training accuracy with max_depth = 2 is: {0}'.format(train_accuracy))\n",
        "print('Testing accuracy with max_depth = 2 is: {0}'.format(test_accuracy))"
      ],
      "execution_count": 5,
      "outputs": [
        {
          "output_type": "stream",
          "text": [
            "Training accuracy with max_depth = 2 is: 0.95\n",
            "Testing accuracy with max_depth = 2 is: 0.98\n"
          ],
          "name": "stdout"
        }
      ]
    },
    {
      "cell_type": "code",
      "metadata": {
        "id": "uJaLxqkH_a49",
        "colab_type": "code",
        "colab": {
          "base_uri": "https://localhost:8080/",
          "height": 934
        },
        "outputId": "9c00b376-24f2-44a7-8845-c078331b6374"
      },
      "source": [
        "# visualizing our decision tree\n",
        "# install graphviz using `pip install graphviz` or \n",
        "# 'conda install graphviz' or `brew install graphviz`\n",
        "import graphviz\n",
        "from sklearn.tree import export_graphviz\n",
        "\n",
        "dot_data = export_graphviz(model)\n",
        "graphviz.Source(export_graphviz(model, \n",
        "                                out_file=None, \n",
        "                                feature_names=sorted(iris.feature_names), \n",
        "                                class_names=[\"setosa\", \"versicolor\", \"virginica\"], \n",
        "                                impurity=False))\n",
        "\n"
      ],
      "execution_count": 6,
      "outputs": [
        {
          "output_type": "execute_result",
          "data": {
            "text/plain": [
              "<graphviz.files.Source at 0x7fe89fbfe9b0>"
            ],
            "image/svg+xml": "<?xml version=\"1.0\" encoding=\"UTF-8\" standalone=\"no\"?>\n<!DOCTYPE svg PUBLIC \"-//W3C//DTD SVG 1.1//EN\"\n \"http://www.w3.org/Graphics/SVG/1.1/DTD/svg11.dtd\">\n<!-- Generated by graphviz version 2.40.1 (20161225.0304)\n -->\n<!-- Title: Tree Pages: 1 -->\n<svg width=\"900pt\" height=\"685pt\"\n viewBox=\"0.00 0.00 900.00 685.00\" xmlns=\"http://www.w3.org/2000/svg\" xmlns:xlink=\"http://www.w3.org/1999/xlink\">\n<g id=\"graph0\" class=\"graph\" transform=\"scale(1 1) rotate(0) translate(4 681)\">\n<title>Tree</title>\n<polygon fill=\"#ffffff\" stroke=\"transparent\" points=\"-4,4 -4,-681 896,-681 896,4 -4,4\"/>\n<!-- 0 -->\n<g id=\"node1\" class=\"node\">\n<title>0</title>\n<polygon fill=\"none\" stroke=\"#000000\" points=\"593,-677 428,-677 428,-609 593,-609 593,-677\"/>\n<text text-anchor=\"middle\" x=\"510.5\" y=\"-661.8\" font-family=\"Times,serif\" font-size=\"14.00\" fill=\"#000000\">sepal length (cm) &lt;= 2.45</text>\n<text text-anchor=\"middle\" x=\"510.5\" y=\"-646.8\" font-family=\"Times,serif\" font-size=\"14.00\" fill=\"#000000\">samples = 100</text>\n<text text-anchor=\"middle\" x=\"510.5\" y=\"-631.8\" font-family=\"Times,serif\" font-size=\"14.00\" fill=\"#000000\">value = [31, 35, 34]</text>\n<text text-anchor=\"middle\" x=\"510.5\" y=\"-616.8\" font-family=\"Times,serif\" font-size=\"14.00\" fill=\"#000000\">class = versicolor</text>\n</g>\n<!-- 1 -->\n<g id=\"node2\" class=\"node\">\n<title>1</title>\n<polygon fill=\"none\" stroke=\"#000000\" points=\"490,-565.5 373,-565.5 373,-512.5 490,-512.5 490,-565.5\"/>\n<text text-anchor=\"middle\" x=\"431.5\" y=\"-550.3\" font-family=\"Times,serif\" font-size=\"14.00\" fill=\"#000000\">samples = 31</text>\n<text text-anchor=\"middle\" x=\"431.5\" y=\"-535.3\" font-family=\"Times,serif\" font-size=\"14.00\" fill=\"#000000\">value = [31, 0, 0]</text>\n<text text-anchor=\"middle\" x=\"431.5\" y=\"-520.3\" font-family=\"Times,serif\" font-size=\"14.00\" fill=\"#000000\">class = setosa</text>\n</g>\n<!-- 0&#45;&gt;1 -->\n<g id=\"edge1\" class=\"edge\">\n<title>0&#45;&gt;1</title>\n<path fill=\"none\" stroke=\"#000000\" d=\"M484.6324,-608.9465C476.0143,-597.6012 466.4094,-584.9567 457.7617,-573.5724\"/>\n<polygon fill=\"#000000\" stroke=\"#000000\" points=\"460.4979,-571.3882 451.6618,-565.5422 454.9237,-575.6224 460.4979,-571.3882\"/>\n<text text-anchor=\"middle\" x=\"448.278\" y=\"-586.6121\" font-family=\"Times,serif\" font-size=\"14.00\" fill=\"#000000\">True</text>\n</g>\n<!-- 2 -->\n<g id=\"node3\" class=\"node\">\n<title>2</title>\n<polygon fill=\"none\" stroke=\"#000000\" points=\"670.5,-573 508.5,-573 508.5,-505 670.5,-505 670.5,-573\"/>\n<text text-anchor=\"middle\" x=\"589.5\" y=\"-557.8\" font-family=\"Times,serif\" font-size=\"14.00\" fill=\"#000000\">sepal width (cm) &lt;= 1.75</text>\n<text text-anchor=\"middle\" x=\"589.5\" y=\"-542.8\" font-family=\"Times,serif\" font-size=\"14.00\" fill=\"#000000\">samples = 69</text>\n<text text-anchor=\"middle\" x=\"589.5\" y=\"-527.8\" font-family=\"Times,serif\" font-size=\"14.00\" fill=\"#000000\">value = [0, 35, 34]</text>\n<text text-anchor=\"middle\" x=\"589.5\" y=\"-512.8\" font-family=\"Times,serif\" font-size=\"14.00\" fill=\"#000000\">class = versicolor</text>\n</g>\n<!-- 0&#45;&gt;2 -->\n<g id=\"edge2\" class=\"edge\">\n<title>0&#45;&gt;2</title>\n<path fill=\"none\" stroke=\"#000000\" d=\"M536.3676,-608.9465C543.1196,-600.0578 550.4774,-590.3716 557.5059,-581.1188\"/>\n<polygon fill=\"#000000\" stroke=\"#000000\" points=\"560.3125,-583.2102 563.5743,-573.13 554.7383,-578.976 560.3125,-583.2102\"/>\n<text text-anchor=\"middle\" x=\"566.9582\" y=\"-594.1999\" font-family=\"Times,serif\" font-size=\"14.00\" fill=\"#000000\">False</text>\n</g>\n<!-- 3 -->\n<g id=\"node4\" class=\"node\">\n<title>3</title>\n<polygon fill=\"none\" stroke=\"#000000\" points=\"581,-469 416,-469 416,-401 581,-401 581,-469\"/>\n<text text-anchor=\"middle\" x=\"498.5\" y=\"-453.8\" font-family=\"Times,serif\" font-size=\"14.00\" fill=\"#000000\">sepal length (cm) &lt;= 5.35</text>\n<text text-anchor=\"middle\" x=\"498.5\" y=\"-438.8\" font-family=\"Times,serif\" font-size=\"14.00\" fill=\"#000000\">samples = 38</text>\n<text text-anchor=\"middle\" x=\"498.5\" y=\"-423.8\" font-family=\"Times,serif\" font-size=\"14.00\" fill=\"#000000\">value = [0, 34, 4]</text>\n<text text-anchor=\"middle\" x=\"498.5\" y=\"-408.8\" font-family=\"Times,serif\" font-size=\"14.00\" fill=\"#000000\">class = versicolor</text>\n</g>\n<!-- 2&#45;&gt;3 -->\n<g id=\"edge3\" class=\"edge\">\n<title>2&#45;&gt;3</title>\n<path fill=\"none\" stroke=\"#000000\" d=\"M559.7032,-504.9465C551.847,-495.968 543.2788,-486.1758 535.1087,-476.8385\"/>\n<polygon fill=\"#000000\" stroke=\"#000000\" points=\"537.5829,-474.351 528.3637,-469.13 532.3148,-478.9606 537.5829,-474.351\"/>\n</g>\n<!-- 14 -->\n<g id=\"node15\" class=\"node\">\n<title>14</title>\n<polygon fill=\"none\" stroke=\"#000000\" points=\"764,-469 599,-469 599,-401 764,-401 764,-469\"/>\n<text text-anchor=\"middle\" x=\"681.5\" y=\"-453.8\" font-family=\"Times,serif\" font-size=\"14.00\" fill=\"#000000\">sepal length (cm) &lt;= 4.85</text>\n<text text-anchor=\"middle\" x=\"681.5\" y=\"-438.8\" font-family=\"Times,serif\" font-size=\"14.00\" fill=\"#000000\">samples = 31</text>\n<text text-anchor=\"middle\" x=\"681.5\" y=\"-423.8\" font-family=\"Times,serif\" font-size=\"14.00\" fill=\"#000000\">value = [0, 1, 30]</text>\n<text text-anchor=\"middle\" x=\"681.5\" y=\"-408.8\" font-family=\"Times,serif\" font-size=\"14.00\" fill=\"#000000\">class = virginica</text>\n</g>\n<!-- 2&#45;&gt;14 -->\n<g id=\"edge14\" class=\"edge\">\n<title>2&#45;&gt;14</title>\n<path fill=\"none\" stroke=\"#000000\" d=\"M619.6242,-504.9465C627.5668,-495.968 636.2291,-486.1758 644.489,-476.8385\"/>\n<polygon fill=\"#000000\" stroke=\"#000000\" points=\"647.3038,-478.939 651.3081,-469.13 642.0608,-474.301 647.3038,-478.939\"/>\n</g>\n<!-- 4 -->\n<g id=\"node5\" class=\"node\">\n<title>4</title>\n<polygon fill=\"none\" stroke=\"#000000\" points=\"432.5,-365 270.5,-365 270.5,-297 432.5,-297 432.5,-365\"/>\n<text text-anchor=\"middle\" x=\"351.5\" y=\"-349.8\" font-family=\"Times,serif\" font-size=\"14.00\" fill=\"#000000\">sepal width (cm) &lt;= 1.65</text>\n<text text-anchor=\"middle\" x=\"351.5\" y=\"-334.8\" font-family=\"Times,serif\" font-size=\"14.00\" fill=\"#000000\">samples = 36</text>\n<text text-anchor=\"middle\" x=\"351.5\" y=\"-319.8\" font-family=\"Times,serif\" font-size=\"14.00\" fill=\"#000000\">value = [0, 34, 2]</text>\n<text text-anchor=\"middle\" x=\"351.5\" y=\"-304.8\" font-family=\"Times,serif\" font-size=\"14.00\" fill=\"#000000\">class = versicolor</text>\n</g>\n<!-- 3&#45;&gt;4 -->\n<g id=\"edge4\" class=\"edge\">\n<title>3&#45;&gt;4</title>\n<path fill=\"none\" stroke=\"#000000\" d=\"M450.3667,-400.9465C436.9144,-391.4293 422.17,-380.9978 408.2688,-371.163\"/>\n<polygon fill=\"#000000\" stroke=\"#000000\" points=\"409.9264,-368.0483 399.7414,-365.13 405.8835,-373.7628 409.9264,-368.0483\"/>\n</g>\n<!-- 13 -->\n<g id=\"node14\" class=\"node\">\n<title>13</title>\n<polygon fill=\"none\" stroke=\"#000000\" points=\"560.5,-357.5 450.5,-357.5 450.5,-304.5 560.5,-304.5 560.5,-357.5\"/>\n<text text-anchor=\"middle\" x=\"505.5\" y=\"-342.3\" font-family=\"Times,serif\" font-size=\"14.00\" fill=\"#000000\">samples = 2</text>\n<text text-anchor=\"middle\" x=\"505.5\" y=\"-327.3\" font-family=\"Times,serif\" font-size=\"14.00\" fill=\"#000000\">value = [0, 0, 2]</text>\n<text text-anchor=\"middle\" x=\"505.5\" y=\"-312.3\" font-family=\"Times,serif\" font-size=\"14.00\" fill=\"#000000\">class = virginica</text>\n</g>\n<!-- 3&#45;&gt;13 -->\n<g id=\"edge13\" class=\"edge\">\n<title>3&#45;&gt;13</title>\n<path fill=\"none\" stroke=\"#000000\" d=\"M500.7921,-400.9465C501.5112,-390.2621 502.3079,-378.4254 503.0383,-367.5742\"/>\n<polygon fill=\"#000000\" stroke=\"#000000\" points=\"506.534,-367.7547 503.7135,-357.5422 499.5498,-367.2845 506.534,-367.7547\"/>\n</g>\n<!-- 5 -->\n<g id=\"node6\" class=\"node\">\n<title>5</title>\n<polygon fill=\"none\" stroke=\"#000000\" points=\"293,-261 128,-261 128,-193 293,-193 293,-261\"/>\n<text text-anchor=\"middle\" x=\"210.5\" y=\"-245.8\" font-family=\"Times,serif\" font-size=\"14.00\" fill=\"#000000\">sepal length (cm) &lt;= 4.95</text>\n<text text-anchor=\"middle\" x=\"210.5\" y=\"-230.8\" font-family=\"Times,serif\" font-size=\"14.00\" fill=\"#000000\">samples = 34</text>\n<text text-anchor=\"middle\" x=\"210.5\" y=\"-215.8\" font-family=\"Times,serif\" font-size=\"14.00\" fill=\"#000000\">value = [0, 33, 1]</text>\n<text text-anchor=\"middle\" x=\"210.5\" y=\"-200.8\" font-family=\"Times,serif\" font-size=\"14.00\" fill=\"#000000\">class = versicolor</text>\n</g>\n<!-- 4&#45;&gt;5 -->\n<g id=\"edge5\" class=\"edge\">\n<title>4&#45;&gt;5</title>\n<path fill=\"none\" stroke=\"#000000\" d=\"M305.3313,-296.9465C292.4281,-287.4293 278.2855,-276.9978 264.9517,-267.163\"/>\n<polygon fill=\"#000000\" stroke=\"#000000\" points=\"266.8977,-264.2492 256.7724,-261.13 262.7425,-269.8826 266.8977,-264.2492\"/>\n</g>\n<!-- 10 -->\n<g id=\"node11\" class=\"node\">\n<title>10</title>\n<polygon fill=\"none\" stroke=\"#000000\" points=\"476,-261 311,-261 311,-193 476,-193 476,-261\"/>\n<text text-anchor=\"middle\" x=\"393.5\" y=\"-245.8\" font-family=\"Times,serif\" font-size=\"14.00\" fill=\"#000000\">sepal length (cm) &lt;= 4.75</text>\n<text text-anchor=\"middle\" x=\"393.5\" y=\"-230.8\" font-family=\"Times,serif\" font-size=\"14.00\" fill=\"#000000\">samples = 2</text>\n<text text-anchor=\"middle\" x=\"393.5\" y=\"-215.8\" font-family=\"Times,serif\" font-size=\"14.00\" fill=\"#000000\">value = [0, 1, 1]</text>\n<text text-anchor=\"middle\" x=\"393.5\" y=\"-200.8\" font-family=\"Times,serif\" font-size=\"14.00\" fill=\"#000000\">class = versicolor</text>\n</g>\n<!-- 4&#45;&gt;10 -->\n<g id=\"edge10\" class=\"edge\">\n<title>4&#45;&gt;10</title>\n<path fill=\"none\" stroke=\"#000000\" d=\"M365.2524,-296.9465C368.6608,-288.5067 372.3595,-279.3479 375.9231,-270.5239\"/>\n<polygon fill=\"#000000\" stroke=\"#000000\" points=\"379.2174,-271.7131 379.7167,-261.13 372.7267,-269.0918 379.2174,-271.7131\"/>\n</g>\n<!-- 6 -->\n<g id=\"node7\" class=\"node\">\n<title>6</title>\n<polygon fill=\"none\" stroke=\"#000000\" points=\"117,-149.5 0,-149.5 0,-96.5 117,-96.5 117,-149.5\"/>\n<text text-anchor=\"middle\" x=\"58.5\" y=\"-134.3\" font-family=\"Times,serif\" font-size=\"14.00\" fill=\"#000000\">samples = 32</text>\n<text text-anchor=\"middle\" x=\"58.5\" y=\"-119.3\" font-family=\"Times,serif\" font-size=\"14.00\" fill=\"#000000\">value = [0, 32, 0]</text>\n<text text-anchor=\"middle\" x=\"58.5\" y=\"-104.3\" font-family=\"Times,serif\" font-size=\"14.00\" fill=\"#000000\">class = versicolor</text>\n</g>\n<!-- 5&#45;&gt;6 -->\n<g id=\"edge6\" class=\"edge\">\n<title>5&#45;&gt;6</title>\n<path fill=\"none\" stroke=\"#000000\" d=\"M160.7295,-192.9465C143.0209,-180.8301 123.1468,-167.232 105.6632,-155.2696\"/>\n<polygon fill=\"#000000\" stroke=\"#000000\" points=\"107.5219,-152.3005 97.2924,-149.5422 103.5691,-158.0776 107.5219,-152.3005\"/>\n</g>\n<!-- 7 -->\n<g id=\"node8\" class=\"node\">\n<title>7</title>\n<polygon fill=\"none\" stroke=\"#000000\" points=\"300,-157 135,-157 135,-89 300,-89 300,-157\"/>\n<text text-anchor=\"middle\" x=\"217.5\" y=\"-141.8\" font-family=\"Times,serif\" font-size=\"14.00\" fill=\"#000000\">sepal length (cm) &lt;= 5.05</text>\n<text text-anchor=\"middle\" x=\"217.5\" y=\"-126.8\" font-family=\"Times,serif\" font-size=\"14.00\" fill=\"#000000\">samples = 2</text>\n<text text-anchor=\"middle\" x=\"217.5\" y=\"-111.8\" font-family=\"Times,serif\" font-size=\"14.00\" fill=\"#000000\">value = [0, 1, 1]</text>\n<text text-anchor=\"middle\" x=\"217.5\" y=\"-96.8\" font-family=\"Times,serif\" font-size=\"14.00\" fill=\"#000000\">class = versicolor</text>\n</g>\n<!-- 5&#45;&gt;7 -->\n<g id=\"edge7\" class=\"edge\">\n<title>5&#45;&gt;7</title>\n<path fill=\"none\" stroke=\"#000000\" d=\"M212.7921,-192.9465C213.342,-184.776 213.9373,-175.9318 214.5136,-167.3697\"/>\n<polygon fill=\"#000000\" stroke=\"#000000\" points=\"218.0232,-167.3425 215.2028,-157.13 211.039,-166.8723 218.0232,-167.3425\"/>\n</g>\n<!-- 8 -->\n<g id=\"node9\" class=\"node\">\n<title>8</title>\n<polygon fill=\"none\" stroke=\"#000000\" points=\"207.5,-53 97.5,-53 97.5,0 207.5,0 207.5,-53\"/>\n<text text-anchor=\"middle\" x=\"152.5\" y=\"-37.8\" font-family=\"Times,serif\" font-size=\"14.00\" fill=\"#000000\">samples = 1</text>\n<text text-anchor=\"middle\" x=\"152.5\" y=\"-22.8\" font-family=\"Times,serif\" font-size=\"14.00\" fill=\"#000000\">value = [0, 0, 1]</text>\n<text text-anchor=\"middle\" x=\"152.5\" y=\"-7.8\" font-family=\"Times,serif\" font-size=\"14.00\" fill=\"#000000\">class = virginica</text>\n</g>\n<!-- 7&#45;&gt;8 -->\n<g id=\"edge8\" class=\"edge\">\n<title>7&#45;&gt;8</title>\n<path fill=\"none\" stroke=\"#000000\" d=\"M194.5834,-88.9777C188.6006,-80.0954 182.1418,-70.5067 176.123,-61.5711\"/>\n<polygon fill=\"#000000\" stroke=\"#000000\" points=\"179.0067,-59.5871 170.5171,-53.2485 173.2009,-63.4978 179.0067,-59.5871\"/>\n</g>\n<!-- 9 -->\n<g id=\"node10\" class=\"node\">\n<title>9</title>\n<polygon fill=\"none\" stroke=\"#000000\" points=\"341,-53 226,-53 226,0 341,0 341,-53\"/>\n<text text-anchor=\"middle\" x=\"283.5\" y=\"-37.8\" font-family=\"Times,serif\" font-size=\"14.00\" fill=\"#000000\">samples = 1</text>\n<text text-anchor=\"middle\" x=\"283.5\" y=\"-22.8\" font-family=\"Times,serif\" font-size=\"14.00\" fill=\"#000000\">value = [0, 1, 0]</text>\n<text text-anchor=\"middle\" x=\"283.5\" y=\"-7.8\" font-family=\"Times,serif\" font-size=\"14.00\" fill=\"#000000\">class = versicolor</text>\n</g>\n<!-- 7&#45;&gt;9 -->\n<g id=\"edge9\" class=\"edge\">\n<title>7&#45;&gt;9</title>\n<path fill=\"none\" stroke=\"#000000\" d=\"M240.7691,-88.9777C246.844,-80.0954 253.4021,-70.5067 259.5135,-61.5711\"/>\n<polygon fill=\"#000000\" stroke=\"#000000\" points=\"262.4493,-63.4785 265.2057,-53.2485 256.6714,-59.5267 262.4493,-63.4785\"/>\n</g>\n<!-- 11 -->\n<g id=\"node12\" class=\"node\">\n<title>11</title>\n<polygon fill=\"none\" stroke=\"#000000\" points=\"441.5,-149.5 331.5,-149.5 331.5,-96.5 441.5,-96.5 441.5,-149.5\"/>\n<text text-anchor=\"middle\" x=\"386.5\" y=\"-134.3\" font-family=\"Times,serif\" font-size=\"14.00\" fill=\"#000000\">samples = 1</text>\n<text text-anchor=\"middle\" x=\"386.5\" y=\"-119.3\" font-family=\"Times,serif\" font-size=\"14.00\" fill=\"#000000\">value = [0, 0, 1]</text>\n<text text-anchor=\"middle\" x=\"386.5\" y=\"-104.3\" font-family=\"Times,serif\" font-size=\"14.00\" fill=\"#000000\">class = virginica</text>\n</g>\n<!-- 10&#45;&gt;11 -->\n<g id=\"edge11\" class=\"edge\">\n<title>10&#45;&gt;11</title>\n<path fill=\"none\" stroke=\"#000000\" d=\"M391.2079,-192.9465C390.4888,-182.2621 389.6921,-170.4254 388.9617,-159.5742\"/>\n<polygon fill=\"#000000\" stroke=\"#000000\" points=\"392.4502,-159.2845 388.2865,-149.5422 385.466,-159.7547 392.4502,-159.2845\"/>\n</g>\n<!-- 12 -->\n<g id=\"node13\" class=\"node\">\n<title>12</title>\n<polygon fill=\"none\" stroke=\"#000000\" points=\"575,-149.5 460,-149.5 460,-96.5 575,-96.5 575,-149.5\"/>\n<text text-anchor=\"middle\" x=\"517.5\" y=\"-134.3\" font-family=\"Times,serif\" font-size=\"14.00\" fill=\"#000000\">samples = 1</text>\n<text text-anchor=\"middle\" x=\"517.5\" y=\"-119.3\" font-family=\"Times,serif\" font-size=\"14.00\" fill=\"#000000\">value = [0, 1, 0]</text>\n<text text-anchor=\"middle\" x=\"517.5\" y=\"-104.3\" font-family=\"Times,serif\" font-size=\"14.00\" fill=\"#000000\">class = versicolor</text>\n</g>\n<!-- 10&#45;&gt;12 -->\n<g id=\"edge12\" class=\"edge\">\n<title>10&#45;&gt;12</title>\n<path fill=\"none\" stroke=\"#000000\" d=\"M434.1022,-192.9465C448.1547,-181.1606 463.8788,-167.9726 477.8535,-156.2519\"/>\n<polygon fill=\"#000000\" stroke=\"#000000\" points=\"480.4408,-158.65 485.8536,-149.5422 475.9425,-153.2866 480.4408,-158.65\"/>\n</g>\n<!-- 15 -->\n<g id=\"node16\" class=\"node\">\n<title>15</title>\n<polygon fill=\"none\" stroke=\"#000000\" points=\"756.5,-365 592.5,-365 592.5,-297 756.5,-297 756.5,-365\"/>\n<text text-anchor=\"middle\" x=\"674.5\" y=\"-349.8\" font-family=\"Times,serif\" font-size=\"14.00\" fill=\"#000000\">petal length (cm) &lt;= 5.95</text>\n<text text-anchor=\"middle\" x=\"674.5\" y=\"-334.8\" font-family=\"Times,serif\" font-size=\"14.00\" fill=\"#000000\">samples = 3</text>\n<text text-anchor=\"middle\" x=\"674.5\" y=\"-319.8\" font-family=\"Times,serif\" font-size=\"14.00\" fill=\"#000000\">value = [0, 1, 2]</text>\n<text text-anchor=\"middle\" x=\"674.5\" y=\"-304.8\" font-family=\"Times,serif\" font-size=\"14.00\" fill=\"#000000\">class = virginica</text>\n</g>\n<!-- 14&#45;&gt;15 -->\n<g id=\"edge15\" class=\"edge\">\n<title>14&#45;&gt;15</title>\n<path fill=\"none\" stroke=\"#000000\" d=\"M679.2079,-400.9465C678.658,-392.776 678.0627,-383.9318 677.4864,-375.3697\"/>\n<polygon fill=\"#000000\" stroke=\"#000000\" points=\"680.961,-374.8723 676.7972,-365.13 673.9768,-375.3425 680.961,-374.8723\"/>\n</g>\n<!-- 18 -->\n<g id=\"node19\" class=\"node\">\n<title>18</title>\n<polygon fill=\"none\" stroke=\"#000000\" points=\"892,-357.5 775,-357.5 775,-304.5 892,-304.5 892,-357.5\"/>\n<text text-anchor=\"middle\" x=\"833.5\" y=\"-342.3\" font-family=\"Times,serif\" font-size=\"14.00\" fill=\"#000000\">samples = 28</text>\n<text text-anchor=\"middle\" x=\"833.5\" y=\"-327.3\" font-family=\"Times,serif\" font-size=\"14.00\" fill=\"#000000\">value = [0, 0, 28]</text>\n<text text-anchor=\"middle\" x=\"833.5\" y=\"-312.3\" font-family=\"Times,serif\" font-size=\"14.00\" fill=\"#000000\">class = virginica</text>\n</g>\n<!-- 14&#45;&gt;18 -->\n<g id=\"edge18\" class=\"edge\">\n<title>14&#45;&gt;18</title>\n<path fill=\"none\" stroke=\"#000000\" d=\"M731.2705,-400.9465C748.9791,-388.8301 768.8532,-375.232 786.3368,-363.2696\"/>\n<polygon fill=\"#000000\" stroke=\"#000000\" points=\"788.4309,-366.0776 794.7076,-357.5422 784.4781,-360.3005 788.4309,-366.0776\"/>\n</g>\n<!-- 16 -->\n<g id=\"node17\" class=\"node\">\n<title>16</title>\n<polygon fill=\"none\" stroke=\"#000000\" points=\"691,-253.5 576,-253.5 576,-200.5 691,-200.5 691,-253.5\"/>\n<text text-anchor=\"middle\" x=\"633.5\" y=\"-238.3\" font-family=\"Times,serif\" font-size=\"14.00\" fill=\"#000000\">samples = 1</text>\n<text text-anchor=\"middle\" x=\"633.5\" y=\"-223.3\" font-family=\"Times,serif\" font-size=\"14.00\" fill=\"#000000\">value = [0, 1, 0]</text>\n<text text-anchor=\"middle\" x=\"633.5\" y=\"-208.3\" font-family=\"Times,serif\" font-size=\"14.00\" fill=\"#000000\">class = versicolor</text>\n</g>\n<!-- 15&#45;&gt;16 -->\n<g id=\"edge16\" class=\"edge\">\n<title>15&#45;&gt;16</title>\n<path fill=\"none\" stroke=\"#000000\" d=\"M661.0751,-296.9465C656.7761,-286.0418 652.0039,-273.9368 647.6546,-262.9043\"/>\n<polygon fill=\"#000000\" stroke=\"#000000\" points=\"650.8875,-261.5617 643.9637,-253.5422 644.3753,-264.129 650.8875,-261.5617\"/>\n</g>\n<!-- 17 -->\n<g id=\"node18\" class=\"node\">\n<title>17</title>\n<polygon fill=\"none\" stroke=\"#000000\" points=\"819.5,-253.5 709.5,-253.5 709.5,-200.5 819.5,-200.5 819.5,-253.5\"/>\n<text text-anchor=\"middle\" x=\"764.5\" y=\"-238.3\" font-family=\"Times,serif\" font-size=\"14.00\" fill=\"#000000\">samples = 2</text>\n<text text-anchor=\"middle\" x=\"764.5\" y=\"-223.3\" font-family=\"Times,serif\" font-size=\"14.00\" fill=\"#000000\">value = [0, 0, 2]</text>\n<text text-anchor=\"middle\" x=\"764.5\" y=\"-208.3\" font-family=\"Times,serif\" font-size=\"14.00\" fill=\"#000000\">class = virginica</text>\n</g>\n<!-- 15&#45;&gt;17 -->\n<g id=\"edge17\" class=\"edge\">\n<title>15&#45;&gt;17</title>\n<path fill=\"none\" stroke=\"#000000\" d=\"M703.9694,-296.9465C713.8828,-285.491 724.9424,-272.711 734.8682,-261.2412\"/>\n<polygon fill=\"#000000\" stroke=\"#000000\" points=\"737.6336,-263.3942 741.5308,-253.5422 732.3404,-258.8135 737.6336,-263.3942\"/>\n</g>\n</g>\n</svg>\n"
          },
          "metadata": {
            "tags": []
          },
          "execution_count": 6
        }
      ]
    },
    {
      "cell_type": "code",
      "metadata": {
        "id": "aV6IqpUo_a4_",
        "colab_type": "code",
        "colab": {
          "base_uri": "https://localhost:8080/",
          "height": 380
        },
        "outputId": "ecea7fb0-815b-4197-b271-0dd00bebb538"
      },
      "source": [
        "# visualizing our decision tree with max_depth = 2\n",
        "import graphviz\n",
        "from sklearn.tree import export_graphviz\n",
        "\n",
        "dot_data = export_graphviz(model2)\n",
        "graphviz.Source(export_graphviz(model2, \n",
        "                                out_file=None, \n",
        "                                feature_names=sorted(iris.feature_names), \n",
        "                                class_names=[\"setosa\", \"versicolor\", \"virginica\"], \n",
        "                                impurity=False))"
      ],
      "execution_count": 7,
      "outputs": [
        {
          "output_type": "execute_result",
          "data": {
            "text/plain": [
              "<graphviz.files.Source at 0x7fe89fbfee48>"
            ],
            "image/svg+xml": "<?xml version=\"1.0\" encoding=\"UTF-8\" standalone=\"no\"?>\n<!DOCTYPE svg PUBLIC \"-//W3C//DTD SVG 1.1//EN\"\n \"http://www.w3.org/Graphics/SVG/1.1/DTD/svg11.dtd\">\n<!-- Generated by graphviz version 2.40.1 (20161225.0304)\n -->\n<!-- Title: Tree Pages: 1 -->\n<svg width=\"350pt\" height=\"269pt\"\n viewBox=\"0.00 0.00 350.00 269.00\" xmlns=\"http://www.w3.org/2000/svg\" xmlns:xlink=\"http://www.w3.org/1999/xlink\">\n<g id=\"graph0\" class=\"graph\" transform=\"scale(1 1) rotate(0) translate(4 265)\">\n<title>Tree</title>\n<polygon fill=\"#ffffff\" stroke=\"transparent\" points=\"-4,4 -4,-265 346,-265 346,4 -4,4\"/>\n<!-- 0 -->\n<g id=\"node1\" class=\"node\">\n<title>0</title>\n<polygon fill=\"none\" stroke=\"#000000\" points=\"220,-261 55,-261 55,-193 220,-193 220,-261\"/>\n<text text-anchor=\"middle\" x=\"137.5\" y=\"-245.8\" font-family=\"Times,serif\" font-size=\"14.00\" fill=\"#000000\">sepal length (cm) &lt;= 2.45</text>\n<text text-anchor=\"middle\" x=\"137.5\" y=\"-230.8\" font-family=\"Times,serif\" font-size=\"14.00\" fill=\"#000000\">samples = 100</text>\n<text text-anchor=\"middle\" x=\"137.5\" y=\"-215.8\" font-family=\"Times,serif\" font-size=\"14.00\" fill=\"#000000\">value = [31, 35, 34]</text>\n<text text-anchor=\"middle\" x=\"137.5\" y=\"-200.8\" font-family=\"Times,serif\" font-size=\"14.00\" fill=\"#000000\">class = versicolor</text>\n</g>\n<!-- 1 -->\n<g id=\"node2\" class=\"node\">\n<title>1</title>\n<polygon fill=\"none\" stroke=\"#000000\" points=\"117,-149.5 0,-149.5 0,-96.5 117,-96.5 117,-149.5\"/>\n<text text-anchor=\"middle\" x=\"58.5\" y=\"-134.3\" font-family=\"Times,serif\" font-size=\"14.00\" fill=\"#000000\">samples = 31</text>\n<text text-anchor=\"middle\" x=\"58.5\" y=\"-119.3\" font-family=\"Times,serif\" font-size=\"14.00\" fill=\"#000000\">value = [31, 0, 0]</text>\n<text text-anchor=\"middle\" x=\"58.5\" y=\"-104.3\" font-family=\"Times,serif\" font-size=\"14.00\" fill=\"#000000\">class = setosa</text>\n</g>\n<!-- 0&#45;&gt;1 -->\n<g id=\"edge1\" class=\"edge\">\n<title>0&#45;&gt;1</title>\n<path fill=\"none\" stroke=\"#000000\" d=\"M111.6324,-192.9465C103.0143,-181.6012 93.4094,-168.9567 84.7617,-157.5724\"/>\n<polygon fill=\"#000000\" stroke=\"#000000\" points=\"87.4979,-155.3882 78.6618,-149.5422 81.9237,-159.6224 87.4979,-155.3882\"/>\n<text text-anchor=\"middle\" x=\"75.278\" y=\"-170.6121\" font-family=\"Times,serif\" font-size=\"14.00\" fill=\"#000000\">True</text>\n</g>\n<!-- 2 -->\n<g id=\"node3\" class=\"node\">\n<title>2</title>\n<polygon fill=\"none\" stroke=\"#000000\" points=\"297.5,-157 135.5,-157 135.5,-89 297.5,-89 297.5,-157\"/>\n<text text-anchor=\"middle\" x=\"216.5\" y=\"-141.8\" font-family=\"Times,serif\" font-size=\"14.00\" fill=\"#000000\">sepal width (cm) &lt;= 1.75</text>\n<text text-anchor=\"middle\" x=\"216.5\" y=\"-126.8\" font-family=\"Times,serif\" font-size=\"14.00\" fill=\"#000000\">samples = 69</text>\n<text text-anchor=\"middle\" x=\"216.5\" y=\"-111.8\" font-family=\"Times,serif\" font-size=\"14.00\" fill=\"#000000\">value = [0, 35, 34]</text>\n<text text-anchor=\"middle\" x=\"216.5\" y=\"-96.8\" font-family=\"Times,serif\" font-size=\"14.00\" fill=\"#000000\">class = versicolor</text>\n</g>\n<!-- 0&#45;&gt;2 -->\n<g id=\"edge2\" class=\"edge\">\n<title>0&#45;&gt;2</title>\n<path fill=\"none\" stroke=\"#000000\" d=\"M163.3676,-192.9465C170.1196,-184.0578 177.4774,-174.3716 184.5059,-165.1188\"/>\n<polygon fill=\"#000000\" stroke=\"#000000\" points=\"187.3125,-167.2102 190.5743,-157.13 181.7383,-162.976 187.3125,-167.2102\"/>\n<text text-anchor=\"middle\" x=\"193.9582\" y=\"-178.1999\" font-family=\"Times,serif\" font-size=\"14.00\" fill=\"#000000\">False</text>\n</g>\n<!-- 3 -->\n<g id=\"node4\" class=\"node\">\n<title>3</title>\n<polygon fill=\"none\" stroke=\"#000000\" points=\"207,-53 90,-53 90,0 207,0 207,-53\"/>\n<text text-anchor=\"middle\" x=\"148.5\" y=\"-37.8\" font-family=\"Times,serif\" font-size=\"14.00\" fill=\"#000000\">samples = 38</text>\n<text text-anchor=\"middle\" x=\"148.5\" y=\"-22.8\" font-family=\"Times,serif\" font-size=\"14.00\" fill=\"#000000\">value = [0, 34, 4]</text>\n<text text-anchor=\"middle\" x=\"148.5\" y=\"-7.8\" font-family=\"Times,serif\" font-size=\"14.00\" fill=\"#000000\">class = versicolor</text>\n</g>\n<!-- 2&#45;&gt;3 -->\n<g id=\"edge3\" class=\"edge\">\n<title>2&#45;&gt;3</title>\n<path fill=\"none\" stroke=\"#000000\" d=\"M192.5257,-88.9777C186.2667,-80.0954 179.5099,-70.5067 173.2133,-61.5711\"/>\n<polygon fill=\"#000000\" stroke=\"#000000\" points=\"175.9699,-59.4068 167.3487,-53.2485 170.2479,-63.4389 175.9699,-59.4068\"/>\n</g>\n<!-- 4 -->\n<g id=\"node5\" class=\"node\">\n<title>4</title>\n<polygon fill=\"none\" stroke=\"#000000\" points=\"342,-53 225,-53 225,0 342,0 342,-53\"/>\n<text text-anchor=\"middle\" x=\"283.5\" y=\"-37.8\" font-family=\"Times,serif\" font-size=\"14.00\" fill=\"#000000\">samples = 31</text>\n<text text-anchor=\"middle\" x=\"283.5\" y=\"-22.8\" font-family=\"Times,serif\" font-size=\"14.00\" fill=\"#000000\">value = [0, 1, 30]</text>\n<text text-anchor=\"middle\" x=\"283.5\" y=\"-7.8\" font-family=\"Times,serif\" font-size=\"14.00\" fill=\"#000000\">class = virginica</text>\n</g>\n<!-- 2&#45;&gt;4 -->\n<g id=\"edge4\" class=\"edge\">\n<title>2&#45;&gt;4</title>\n<path fill=\"none\" stroke=\"#000000\" d=\"M240.1217,-88.9777C246.2887,-80.0954 252.9461,-70.5067 259.1501,-61.5711\"/>\n<polygon fill=\"#000000\" stroke=\"#000000\" points=\"262.1003,-63.4589 264.9285,-53.2485 256.3503,-59.4666 262.1003,-63.4589\"/>\n</g>\n</g>\n</svg>\n"
          },
          "metadata": {
            "tags": []
          },
          "execution_count": 7
        }
      ]
    },
    {
      "cell_type": "code",
      "metadata": {
        "id": "doKXSz-C_a5B",
        "colab_type": "code",
        "colab": {}
      },
      "source": [
        ""
      ],
      "execution_count": 0,
      "outputs": []
    }
  ]
}