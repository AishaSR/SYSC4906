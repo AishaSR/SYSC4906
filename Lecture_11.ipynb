{
  "nbformat": 4,
  "nbformat_minor": 0,
  "metadata": {
    "kernelspec": {
      "display_name": "Python 2",
      "language": "python",
      "name": "python2"
    },
    "language_info": {
      "codemirror_mode": {
        "name": "ipython",
        "version": 2
      },
      "file_extension": ".py",
      "mimetype": "text/x-python",
      "name": "python",
      "nbconvert_exporter": "python",
      "pygments_lexer": "ipython2",
      "version": "2.7.12"
    },
    "colab": {
      "name": "Lecture_11.ipynb",
      "provenance": [],
      "include_colab_link": true
    }
  },
  "cells": [
    {
      "cell_type": "markdown",
      "metadata": {
        "id": "view-in-github",
        "colab_type": "text"
      },
      "source": [
        "<a href=\"https://colab.research.google.com/github/jrgreen7/SYSC4906/blob/master/Lecture_11.ipynb\" target=\"_parent\"><img src=\"https://colab.research.google.com/assets/colab-badge.svg\" alt=\"Open In Colab\"/></a>"
      ]
    },
    {
      "cell_type": "markdown",
      "metadata": {
        "id": "9TKaaJcXdBIt",
        "colab_type": "text"
      },
      "source": [
        "# How to use LSTM networks to predict the stock market\n",
        "- Based on Siraj Raval's https://github.com/llSourcell/How-to-Predict-Stock-Prices-Easily-Demo\n",
        "- Which was based on  Jakob Aungiers' https://github.com/jaungiers/LSTM-Neural-Network-for-Time-Series-Prediction\n",
        "- Modified by James Green, Oct 2019"
      ]
    },
    {
      "cell_type": "code",
      "metadata": {
        "id": "jIQzQbBxd5b2",
        "colab_type": "code",
        "colab": {
          "base_uri": "https://localhost:8080/",
          "height": 34
        },
        "outputId": "9e611044-8844-47e9-c9b5-55a80337f16a"
      },
      "source": [
        "# Helper functions:\n",
        "\n",
        "import time\n",
        "import warnings\n",
        "import numpy as np\n",
        "from numpy import newaxis\n",
        "from keras.layers.core import Dense, Activation, Dropout\n",
        "from keras.layers.recurrent import LSTM\n",
        "from keras.models import Sequential\n",
        "import matplotlib.pyplot as plt\n",
        "import pandas as pd\n",
        "\n",
        "warnings.filterwarnings(\"ignore\")\n",
        "\n",
        "# Function to plot the predictions of non-overlapping windows.\n",
        "# Start with a full window of test data, then predict until window_len \n",
        "# predictions have been made. Then start over with a new window of test data.\n",
        "def plot_results_multiple(predicted_data, true_data, prediction_len):\n",
        "    fig = plt.figure(facecolor='white')\n",
        "    ax = fig.add_subplot(111)\n",
        "    ax.plot(true_data, label='True Data')\n",
        "    \n",
        "    #Pad the list of predictions to shift it in the graph to it's correct start\n",
        "    for i, data in enumerate(predicted_data):\n",
        "        padding = [None for p in xrange(i * prediction_len)]\n",
        "        plt.plot(padding + data, label='Prediction')\n",
        "        plt.legend()\n",
        "    plt.show()\n",
        "\n",
        "\n",
        "# Function to load the data from CSV file, then generate overlapping windows of \n",
        "# data. Each window is normalized WRT to the first point in the window\n",
        "def load_data(URL, seq_len, normalise_window):\n",
        "    pd_data = pd.read_csv(URL)\n",
        "    data = pd_data.values\n",
        "    #f = open(filename, 'r').read()\n",
        "    #data = f.split('\\n')\n",
        "\n",
        "    # Split up the data into a bunch of overlapping sequence windows\n",
        "    sequence_length = seq_len + 1\n",
        "    result = []\n",
        "    for index in range(len(data) - sequence_length):\n",
        "        result.append(data[index: index + sequence_length])\n",
        "    \n",
        "    if normalise_window:\n",
        "        result = normalise_windows(result)\n",
        "\n",
        "    result = np.array(result)\n",
        "\n",
        "    row = round(0.9 * result.shape[0])\n",
        "    train = result[:int(row), :]\n",
        "    np.random.shuffle(train)\n",
        "    x_train = train[:, :-1]\n",
        "    y_train = train[:, -1]\n",
        "    x_test = result[int(row):, :-1]\n",
        "    y_test = result[int(row):, -1]\n",
        "\n",
        "    x_train = np.reshape(x_train, (x_train.shape[0], x_train.shape[1], 1))\n",
        "    x_test = np.reshape(x_test, (x_test.shape[0], x_test.shape[1], 1))  \n",
        "\n",
        "    return [x_train, y_train, x_test, y_test]\n",
        "\n",
        "# Function to normalize a window of data by the first point\n",
        "# First point becomes 0, then subsequent points are % difference from initial\n",
        "def normalise_windows(window_data):\n",
        "    normalised_data = []\n",
        "    for window in window_data:\n",
        "        normalised_window = [((float(p) / float(window[0])) - 1) for p in window]\n",
        "        normalised_data.append(normalised_window)\n",
        "    return normalised_data\n",
        "\n",
        "\n",
        "# Function to predict 50 steps into the future, then reload model with new\n",
        "# window of data. Repeat...\n",
        "def predict_sequences_multiple(model, data, window_size, prediction_len):\n",
        "    #Predict sequence of 50 steps before shifting prediction run forward by 50 steps\n",
        "    prediction_seqs = []\n",
        "    for i in xrange(len(data)/prediction_len):\n",
        "        curr_frame = data[i*prediction_len]\n",
        "        predicted = []\n",
        "        for j in xrange(prediction_len):\n",
        "            predicted.append(model.predict(curr_frame[newaxis,:,:])[0,0])\n",
        "            curr_frame = curr_frame[1:]\n",
        "            curr_frame = np.insert(curr_frame, [window_size-1], predicted[-1], axis=0)\n",
        "        prediction_seqs.append(predicted)\n",
        "    return prediction_seqs"
      ],
      "execution_count": 1,
      "outputs": [
        {
          "output_type": "stream",
          "text": [
            "Using TensorFlow backend.\n"
          ],
          "name": "stderr"
        }
      ]
    },
    {
      "cell_type": "code",
      "metadata": {
        "id": "guVZlGnic_C4",
        "colab_type": "code",
        "colab": {}
      },
      "source": [
        "from keras.layers.core import Dense, Activation, Dropout\n",
        "from keras.layers.recurrent import LSTM\n",
        "from keras.models import Sequential\n",
        "import time #helper libraries"
      ],
      "execution_count": 0,
      "outputs": []
    },
    {
      "cell_type": "code",
      "metadata": {
        "id": "sNZKEvobc_C8",
        "colab_type": "code",
        "colab": {}
      },
      "source": [
        "#Step 1 Load Data\n",
        "URL = 'https://github.com/llSourcell/How-to-Predict-Stock-Prices-Easily-Demo/raw/master/sp500.csv'\n",
        "X_train, y_train, X_test, y_test = load_data(URL, 50, True)"
      ],
      "execution_count": 0,
      "outputs": []
    },
    {
      "cell_type": "code",
      "metadata": {
        "id": "9LLteJ0Nc_C-",
        "colab_type": "code",
        "colab": {
          "base_uri": "https://localhost:8080/",
          "height": 289
        },
        "outputId": "37b73bd3-6c84-4fe9-9253-a15aead496c2"
      },
      "source": [
        "#Step 2 Build Model\n",
        "model = Sequential()\n",
        "\n",
        "model.add(LSTM(\n",
        "    input_dim=1,\n",
        "    output_dim=50,\n",
        "    return_sequences=True))\n",
        "model.add(Dropout(0.2))\n",
        "\n",
        "model.add(LSTM(\n",
        "    100,\n",
        "    return_sequences=False))\n",
        "model.add(Dropout(0.2))\n",
        "\n",
        "model.add(Dense(\n",
        "    output_dim=1))\n",
        "model.add(Activation('linear'))\n",
        "\n",
        "start = time.time()\n",
        "model.compile(loss='mse', optimizer='rmsprop')\n",
        "print 'compilation time : ', time.time() - start"
      ],
      "execution_count": 4,
      "outputs": [
        {
          "output_type": "stream",
          "text": [
            "WARNING: Logging before flag parsing goes to stderr.\n",
            "W1011 20:45:20.918500 140220318136192 module_wrapper.py:139] From /usr/local/lib/python2.7/dist-packages/keras/backend/tensorflow_backend.py:74: The name tf.get_default_graph is deprecated. Please use tf.compat.v1.get_default_graph instead.\n",
            "\n",
            "W1011 20:45:20.922646 140220318136192 module_wrapper.py:139] From /usr/local/lib/python2.7/dist-packages/keras/backend/tensorflow_backend.py:517: The name tf.placeholder is deprecated. Please use tf.compat.v1.placeholder instead.\n",
            "\n",
            "W1011 20:45:20.926425 140220318136192 module_wrapper.py:139] From /usr/local/lib/python2.7/dist-packages/keras/backend/tensorflow_backend.py:4138: The name tf.random_uniform is deprecated. Please use tf.random.uniform instead.\n",
            "\n",
            "W1011 20:45:21.116807 140220318136192 module_wrapper.py:139] From /usr/local/lib/python2.7/dist-packages/keras/backend/tensorflow_backend.py:133: The name tf.placeholder_with_default is deprecated. Please use tf.compat.v1.placeholder_with_default instead.\n",
            "\n",
            "W1011 20:45:21.127907 140220318136192 deprecation.py:506] From /usr/local/lib/python2.7/dist-packages/keras/backend/tensorflow_backend.py:3445: calling dropout (from tensorflow.python.ops.nn_ops) with keep_prob is deprecated and will be removed in a future version.\n",
            "Instructions for updating:\n",
            "Please use `rate` instead of `keep_prob`. Rate should be set to `rate = 1 - keep_prob`.\n",
            "W1011 20:45:21.343421 140220318136192 module_wrapper.py:139] From /usr/local/lib/python2.7/dist-packages/keras/optimizers.py:790: The name tf.train.Optimizer is deprecated. Please use tf.compat.v1.train.Optimizer instead.\n",
            "\n"
          ],
          "name": "stderr"
        },
        {
          "output_type": "stream",
          "text": [
            "compilation time :  0.0217740535736\n"
          ],
          "name": "stdout"
        }
      ]
    },
    {
      "cell_type": "code",
      "metadata": {
        "id": "3xguCkLCc_DA",
        "colab_type": "code",
        "colab": {
          "base_uri": "https://localhost:8080/",
          "height": 1000
        },
        "outputId": "2b9d1ca6-0313-44ac-a4aa-853f2c4f3ec3"
      },
      "source": [
        "#Step 3 Train the model\n",
        "model.fit(\n",
        "    X_train,\n",
        "    y_train,\n",
        "    batch_size=512,\n",
        "    nb_epoch=50,\n",
        "    validation_split=0.05)"
      ],
      "execution_count": 10,
      "outputs": [
        {
          "output_type": "stream",
          "text": [
            "Train on 3521 samples, validate on 186 samples\n",
            "Epoch 1/50\n",
            "3521/3521 [==============================] - 4s 1ms/step - loss: 3.4361e-04 - val_loss: 3.9551e-04\n",
            "Epoch 2/50\n",
            "3521/3521 [==============================] - 4s 1ms/step - loss: 3.1993e-04 - val_loss: 3.3699e-04\n",
            "Epoch 3/50\n",
            "3521/3521 [==============================] - 4s 1ms/step - loss: 3.2319e-04 - val_loss: 2.9960e-04\n",
            "Epoch 4/50\n",
            "3521/3521 [==============================] - 4s 1ms/step - loss: 2.8943e-04 - val_loss: 3.7147e-04\n",
            "Epoch 5/50\n",
            "3521/3521 [==============================] - 4s 1ms/step - loss: 3.3656e-04 - val_loss: 3.4052e-04\n",
            "Epoch 6/50\n",
            "3521/3521 [==============================] - 4s 1ms/step - loss: 3.0613e-04 - val_loss: 3.1067e-04\n",
            "Epoch 7/50\n",
            "3521/3521 [==============================] - 4s 1ms/step - loss: 3.0802e-04 - val_loss: 3.4844e-04\n",
            "Epoch 8/50\n",
            "3521/3521 [==============================] - 4s 1ms/step - loss: 3.0358e-04 - val_loss: 2.7452e-04\n",
            "Epoch 9/50\n",
            "3521/3521 [==============================] - 4s 1ms/step - loss: 2.8093e-04 - val_loss: 3.7068e-04\n",
            "Epoch 10/50\n",
            "3521/3521 [==============================] - 4s 1ms/step - loss: 3.1438e-04 - val_loss: 3.1408e-04\n",
            "Epoch 11/50\n",
            "3521/3521 [==============================] - 4s 1ms/step - loss: 2.6932e-04 - val_loss: 2.6323e-04\n",
            "Epoch 12/50\n",
            "3521/3521 [==============================] - 4s 1ms/step - loss: 2.8147e-04 - val_loss: 2.7199e-04\n",
            "Epoch 13/50\n",
            "3521/3521 [==============================] - 4s 1ms/step - loss: 2.7101e-04 - val_loss: 2.4484e-04\n",
            "Epoch 14/50\n",
            "3521/3521 [==============================] - 4s 1ms/step - loss: 2.2293e-04 - val_loss: 2.6319e-04\n",
            "Epoch 15/50\n",
            "3521/3521 [==============================] - 4s 1ms/step - loss: 3.2015e-04 - val_loss: 2.3972e-04\n",
            "Epoch 16/50\n",
            "3521/3521 [==============================] - 4s 1ms/step - loss: 2.4297e-04 - val_loss: 2.4591e-04\n",
            "Epoch 17/50\n",
            "3521/3521 [==============================] - 4s 1ms/step - loss: 2.9440e-04 - val_loss: 2.4764e-04\n",
            "Epoch 18/50\n",
            "3521/3521 [==============================] - 4s 1ms/step - loss: 2.4133e-04 - val_loss: 2.5360e-04\n",
            "Epoch 19/50\n",
            "3521/3521 [==============================] - 4s 1ms/step - loss: 2.5829e-04 - val_loss: 2.7492e-04\n",
            "Epoch 20/50\n",
            "3521/3521 [==============================] - 4s 1ms/step - loss: 2.7571e-04 - val_loss: 2.2661e-04\n",
            "Epoch 21/50\n",
            "3521/3521 [==============================] - 4s 1ms/step - loss: 2.2018e-04 - val_loss: 2.6716e-04\n",
            "Epoch 22/50\n",
            "3521/3521 [==============================] - 4s 1ms/step - loss: 2.7720e-04 - val_loss: 2.0756e-04\n",
            "Epoch 23/50\n",
            "3521/3521 [==============================] - 4s 1ms/step - loss: 2.4070e-04 - val_loss: 2.2033e-04\n",
            "Epoch 24/50\n",
            "3521/3521 [==============================] - 4s 1ms/step - loss: 2.9440e-04 - val_loss: 2.2937e-04\n",
            "Epoch 25/50\n",
            "3521/3521 [==============================] - 4s 1ms/step - loss: 2.3844e-04 - val_loss: 2.5552e-04\n",
            "Epoch 26/50\n",
            "3521/3521 [==============================] - 4s 1ms/step - loss: 2.4661e-04 - val_loss: 2.4481e-04\n",
            "Epoch 27/50\n",
            "3521/3521 [==============================] - 4s 1ms/step - loss: 2.3362e-04 - val_loss: 2.2584e-04\n",
            "Epoch 28/50\n",
            "3521/3521 [==============================] - 4s 1ms/step - loss: 2.6215e-04 - val_loss: 2.3074e-04\n",
            "Epoch 29/50\n",
            "3521/3521 [==============================] - 4s 1ms/step - loss: 2.1860e-04 - val_loss: 2.1301e-04\n",
            "Epoch 30/50\n",
            "3521/3521 [==============================] - 4s 1ms/step - loss: 2.7028e-04 - val_loss: 2.1444e-04\n",
            "Epoch 31/50\n",
            "3521/3521 [==============================] - 4s 1ms/step - loss: 2.0943e-04 - val_loss: 2.1404e-04\n",
            "Epoch 32/50\n",
            "3521/3521 [==============================] - 4s 1ms/step - loss: 2.6936e-04 - val_loss: 2.3602e-04\n",
            "Epoch 33/50\n",
            "3521/3521 [==============================] - 4s 1ms/step - loss: 2.2783e-04 - val_loss: 2.2197e-04\n",
            "Epoch 34/50\n",
            "3521/3521 [==============================] - 4s 1ms/step - loss: 2.2873e-04 - val_loss: 2.2617e-04\n",
            "Epoch 35/50\n",
            "3521/3521 [==============================] - 4s 1ms/step - loss: 2.3445e-04 - val_loss: 2.5430e-04\n",
            "Epoch 36/50\n",
            "3521/3521 [==============================] - 4s 1ms/step - loss: 2.5390e-04 - val_loss: 1.9357e-04\n",
            "Epoch 37/50\n",
            "3521/3521 [==============================] - 4s 1ms/step - loss: 2.1867e-04 - val_loss: 2.2917e-04\n",
            "Epoch 38/50\n",
            "3521/3521 [==============================] - 4s 1ms/step - loss: 2.2544e-04 - val_loss: 2.3255e-04\n",
            "Epoch 39/50\n",
            "3521/3521 [==============================] - 4s 1ms/step - loss: 2.4129e-04 - val_loss: 2.1933e-04\n",
            "Epoch 40/50\n",
            "3521/3521 [==============================] - 4s 1ms/step - loss: 2.1721e-04 - val_loss: 1.7938e-04\n",
            "Epoch 41/50\n",
            "3521/3521 [==============================] - 4s 1ms/step - loss: 2.4893e-04 - val_loss: 1.8579e-04\n",
            "Epoch 42/50\n",
            "3521/3521 [==============================] - 4s 1ms/step - loss: 2.0431e-04 - val_loss: 2.4172e-04\n",
            "Epoch 43/50\n",
            "3521/3521 [==============================] - 4s 1ms/step - loss: 2.3669e-04 - val_loss: 2.6903e-04\n",
            "Epoch 44/50\n",
            "3521/3521 [==============================] - 4s 1ms/step - loss: 2.1939e-04 - val_loss: 2.2813e-04\n",
            "Epoch 45/50\n",
            "3521/3521 [==============================] - 4s 1ms/step - loss: 2.2333e-04 - val_loss: 2.2064e-04\n",
            "Epoch 46/50\n",
            "3521/3521 [==============================] - 4s 1ms/step - loss: 2.1831e-04 - val_loss: 2.5838e-04\n",
            "Epoch 47/50\n",
            "3521/3521 [==============================] - 4s 1ms/step - loss: 2.1802e-04 - val_loss: 2.5331e-04\n",
            "Epoch 48/50\n",
            "3521/3521 [==============================] - 4s 1ms/step - loss: 2.0820e-04 - val_loss: 2.1007e-04\n",
            "Epoch 49/50\n",
            "3521/3521 [==============================] - 4s 1ms/step - loss: 2.5958e-04 - val_loss: 1.7774e-04\n",
            "Epoch 50/50\n",
            "3521/3521 [==============================] - 4s 1ms/step - loss: 2.0177e-04 - val_loss: 1.8184e-04\n"
          ],
          "name": "stdout"
        },
        {
          "output_type": "execute_result",
          "data": {
            "text/plain": [
              "<keras.callbacks.History at 0x7f8754ecf550>"
            ]
          },
          "metadata": {
            "tags": []
          },
          "execution_count": 10
        }
      ]
    },
    {
      "cell_type": "code",
      "metadata": {
        "id": "pafl4OdOc_DC",
        "colab_type": "code",
        "colab": {
          "base_uri": "https://localhost:8080/",
          "height": 269
        },
        "outputId": "0f5b24e8-0cb1-4873-b79c-e6d8fee7361e"
      },
      "source": [
        "#Step 4 - Plot the predictions!\n",
        "predictions = predict_sequences_multiple(model, X_test, 50, 50)\n",
        "plot_results_multiple(predictions, y_test, 50)"
      ],
      "execution_count": 11,
      "outputs": [
        {
          "output_type": "display_data",
          "data": {
            "image/png": "[encoded data removed]",
            "text/plain": [
              "<Figure size 432x288 with 1 Axes>"
            ]
          },
          "metadata": {
            "tags": []
          }
        }
      ]
    },
    {
      "cell_type": "code",
      "metadata": {
        "id": "0hii7KZcc_DE",
        "colab_type": "code",
        "colab": {}
      },
      "source": [
        ""
      ],
      "execution_count": 0,
      "outputs": []
    }
  ]
}