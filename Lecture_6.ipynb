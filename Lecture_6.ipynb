{
  "nbformat": 4,
  "nbformat_minor": 0,
  "metadata": {
    "kernelspec": {
      "display_name": "Python 3",
      "language": "python",
      "name": "python3"
    },
    "language_info": {
      "codemirror_mode": {
        "name": "ipython",
        "version": 3
      },
      "file_extension": ".py",
      "mimetype": "text/x-python",
      "name": "python",
      "nbconvert_exporter": "python",
      "pygments_lexer": "ipython3",
      "version": "3.6.8"
    },
    "colab": {
      "name": "Lecture_6.ipynb",
      "provenance": [],
      "include_colab_link": true
    }
  },
  "cells": [
    {
      "cell_type": "markdown",
      "metadata": {
        "id": "view-in-github",
        "colab_type": "text"
      },
      "source": [
        "<a href=\"https://colab.research.google.com/github/jrgreen7/SYSC4906/blob/master/Lecture_6.ipynb\" target=\"_parent\"><img src=\"https://colab.research.google.com/assets/colab-badge.svg\" alt=\"Open In Colab\"/></a>"
      ]
    },
    {
      "cell_type": "markdown",
      "metadata": {
        "id": "Lt8Md9sQWCT_",
        "colab_type": "text"
      },
      "source": [
        "# Notebook illustrating Gradient Descent\n",
        "## Created by Daniel Newman, https://github.com/dtnewman\n",
        "### From: https://nbviewer.jupyter.org/github/dtnewman/gradient_descent/blob/master/stochastic_gradient_descent.ipynb\n",
        "### Modified by James Green, Sept 2019"
      ]
    },
    {
      "cell_type": "code",
      "metadata": {
        "id": "GvALfjZ3V_UO",
        "colab_type": "code",
        "colab": {}
      },
      "source": [
        "%matplotlib inline\n",
        "import numpy as np\n",
        "import scipy as sp\n",
        "import matplotlib.pyplot as plt\n",
        "import random\n",
        "from scipy import stats\n",
        "from scipy.optimize import fmin"
      ],
      "execution_count": 0,
      "outputs": []
    },
    {
      "cell_type": "markdown",
      "metadata": {
        "id": "tUUJJbjOV_UR",
        "colab_type": "text"
      },
      "source": [
        "### Gradient Descent"
      ]
    },
    {
      "cell_type": "markdown",
      "metadata": {
        "id": "CVZLC4VQV_US",
        "colab_type": "text"
      },
      "source": [
        "<b>Gradient descent</b>, also known as <b>steepest descent</b>, is an optimization algorithm for finding the local minimum of a function. To find a local minimum, the function \"steps\" in the  direction of the negative of the gradient. <b>Gradient ascent</b> is the same as gradient descent, except that it steps in the direction of the positive of the gradient and therefore finds local maximums instead of minimums. The algorithm of gradient descent can be outlined as follows:\n",
        "\n",
        "&nbsp;&nbsp;&nbsp; 1: &nbsp; Choose initial guess $x_0$ <br>\n",
        "&nbsp;&nbsp;&nbsp;    2: &nbsp; <b>for</b> k = 0, 1, 2, ... <b>do</b> <br>\n",
        "&nbsp;&nbsp;&nbsp;    3:   &nbsp;&nbsp;&nbsp;&nbsp;&nbsp; $s_k$ = -$\\nabla f(x_k)$ <br>\n",
        "&nbsp;&nbsp;&nbsp;    4:   &nbsp;&nbsp;&nbsp;&nbsp;&nbsp; $x_{k+1} = x_k + \\alpha_k s_k$ <br>\n",
        "&nbsp;&nbsp;&nbsp;    5: &nbsp;  <b>end for</b>"
      ]
    },
    {
      "cell_type": "markdown",
      "metadata": {
        "id": "BD7kFtZBV_UT",
        "colab_type": "text"
      },
      "source": [
        "As a simple example, let's find a local minimum for the function $f(x) = x^3-2x^2+2$"
      ]
    },
    {
      "cell_type": "code",
      "metadata": {
        "id": "KM0o2mMjV_UV",
        "colab_type": "code",
        "colab": {}
      },
      "source": [
        "f = lambda x: x**3-2*x**2+2"
      ],
      "execution_count": 0,
      "outputs": []
    },
    {
      "cell_type": "code",
      "metadata": {
        "id": "tfkTBjMEV_UZ",
        "colab_type": "code",
        "outputId": "b333cd77-7a89-47e7-ebd2-8c5326defdd2",
        "colab": {
          "base_uri": "https://localhost:8080/",
          "height": 269
        }
      },
      "source": [
        "x = np.linspace(-1,2.5,1000)\n",
        "plt.plot(x,f(x))\n",
        "plt.xlim([-1,2.5])\n",
        "plt.ylim([0,3])\n",
        "plt.show()"
      ],
      "execution_count": 3,
      "outputs": [
        {
          "output_type": "display_data",
          "data": {
            "image/png": "[encoded data removed]",
            "text/plain": [
              "<Figure size 432x288 with 1 Axes>"
            ]
          },
          "metadata": {
            "tags": []
          }
        }
      ]
    },
    {
      "cell_type": "markdown",
      "metadata": {
        "id": "wKazUy6qV_Uc",
        "colab_type": "text"
      },
      "source": [
        "We can see from plot above that our local minimum is gonna be near around 1.4 or 1.5 (on the x-axis), but let's pretend that we don't know that, so we set our starting point (arbitrarily, in this case) at $x_0 = 2$"
      ]
    },
    {
      "cell_type": "code",
      "metadata": {
        "id": "pseCBf1KV_Ud",
        "colab_type": "code",
        "outputId": "d00691ec-ca36-4012-93c9-e8f7f35b7898",
        "colab": {
          "base_uri": "https://localhost:8080/",
          "height": 50
        }
      },
      "source": [
        "x_old = 0\n",
        "x_new = 2 # The algorithm starts at x=2\n",
        "n_k = 0.1 # step size\n",
        "precision = 0.0001\n",
        "\n",
        "x_list, y_list = [x_new], [f(x_new)]\n",
        "\n",
        "# returns the value of the derivative of our function\n",
        "def f_prime(x):\n",
        "    return 3*x**2-4*x\n",
        " \n",
        "while abs(x_new - x_old) > precision:\n",
        "    x_old = x_new\n",
        "    s_k = -f_prime(x_old)\n",
        "    x_new = x_old + n_k * s_k\n",
        "    x_list.append(x_new)\n",
        "    y_list.append(f(x_new))\n",
        "print('Local minimum occurs at: {:.3f}'.format(x_new))\n",
        "print(\"Number of steps:\", len(x_list))"
      ],
      "execution_count": 4,
      "outputs": [
        {
          "output_type": "stream",
          "text": [
            "Local minimum occurs at: 1.333\n",
            "Number of steps: 17\n"
          ],
          "name": "stdout"
        }
      ]
    },
    {
      "cell_type": "markdown",
      "metadata": {
        "id": "j1pNZKrjV_Uf",
        "colab_type": "text"
      },
      "source": [
        "The figures below show the route that was taken to find the local minimum."
      ]
    },
    {
      "cell_type": "code",
      "metadata": {
        "id": "xCGuUl-qV_Ug",
        "colab_type": "code",
        "outputId": "7d12a8cf-4d95-427f-df94-21ded888760f",
        "colab": {
          "base_uri": "https://localhost:8080/",
          "height": 227
        }
      },
      "source": [
        "plt.figure(figsize=[10,3])\n",
        "plt.subplot(1,2,1)\n",
        "plt.scatter(x_list,y_list,c=\"r\")\n",
        "plt.plot(x_list,y_list,c=\"r\")\n",
        "plt.plot(x,f(x), c=\"b\")\n",
        "plt.xlim([-1,2.5])\n",
        "plt.ylim([0,3])\n",
        "plt.title(\"Gradient descent\")\n",
        "plt.subplot(1,2,2)\n",
        "plt.scatter(x_list,y_list,c=\"r\")\n",
        "plt.plot(x_list,y_list,c=\"r\")\n",
        "plt.plot(x,f(x), c=\"b\")\n",
        "plt.xlim([1.2,2.1])\n",
        "plt.ylim([0,3])\n",
        "plt.title(\"Gradient descent (zoomed in)\")\n",
        "plt.show()"
      ],
      "execution_count": 0,
      "outputs": [
        {
          "output_type": "display_data",
          "data": {
            "image/png": "[encoded data removed]",
            "text/plain": [
              "<Figure size 720x216 with 2 Axes>"
            ]
          },
          "metadata": {
            "tags": []
          }
        }
      ]
    },
    {
      "cell_type": "markdown",
      "metadata": {
        "id": "XMH46GBqV_Up",
        "colab_type": "text"
      },
      "source": [
        "You'll notice that the step size (also called learning rate) in the implementation above is constant. Doing this makes it easier to implement the algorithm. However, it also presents some issues: If the step size is too small, then convergence will be very slow, but if we make it too large, then the method may fail to converge at all. \n",
        "\n",
        "A solution to this is to update the step size is choosing a decrease constant $d$ that shrinks the step size over time:\n",
        "$\\eta(t+1) = \\eta(t) / (1+t \\times d)$."
      ]
    },
    {
      "cell_type": "code",
      "metadata": {
        "id": "V8j43FE2V_Uq",
        "colab_type": "code",
        "outputId": "acfed8ab-a2ea-4d64-bf3c-dc3280d8850d",
        "colab": {
          "base_uri": "https://localhost:8080/",
          "height": 51
        }
      },
      "source": [
        "x_old = 0\n",
        "x_new = 2 # The algorithm starts at x=2\n",
        "n_k = 0.17 # step size\n",
        "precision = 0.0001\n",
        "t, d = 0, 1\n",
        "\n",
        "x_list, y_list = [x_new], [f(x_new)]\n",
        "\n",
        "# returns the value of the derivative of our function\n",
        "def f_prime(x):\n",
        "    return 3*x**2-4*x\n",
        " \n",
        "while abs(x_new - x_old) > precision:\n",
        "    x_old = x_new\n",
        "    s_k = -f_prime(x_old)\n",
        "    x_new = x_old + n_k * s_k\n",
        "    x_list.append(x_new)\n",
        "    y_list.append(f(x_new))\n",
        "    n_k = n_k / (1 + t * d)\n",
        "    t += 1\n",
        "\n",
        "print('Local minimum occurs at: {:.3f}'.format(x_new))\n",
        "print(\"Number of steps:\", len(x_list))"
      ],
      "execution_count": 0,
      "outputs": [
        {
          "output_type": "stream",
          "text": [
            "Local minimum occurs at: 1.331\n",
            "Number of steps: 6\n"
          ],
          "name": "stdout"
        }
      ]
    },
    {
      "cell_type": "markdown",
      "metadata": {
        "id": "x0nGBbpZV_Ut",
        "colab_type": "text"
      },
      "source": [
        "Let's now consider an example which is a little bit more complicated. Consider a simple **linear regression** where we want to see how the temperature affects the noises made by crickets. We have a data set of cricket chirp rates at various temperatures. First we'll load that data set in and plot it:"
      ]
    },
    {
      "cell_type": "code",
      "metadata": {
        "id": "2WsJ80__V_Uu",
        "colab_type": "code",
        "outputId": "921832d9-7503-4e36-bdfc-95f653798397",
        "colab": {
          "base_uri": "https://localhost:8080/",
          "height": 295
        }
      },
      "source": [
        "#Load the dataset\n",
        "#data = np.loadtxt('SGD_data.txt', delimiter=',')\n",
        "data = np.loadtxt('https://github.com/dtnewman/gradient_descent/raw/master/SGD_data.txt', delimiter=',') #Using \"raw\" URL from github repository\n",
        " \n",
        "#Plot the data\n",
        "plt.scatter(data[:, 0], data[:, 1], marker='o', c='b')\n",
        "plt.title('cricket chirps vs temperature')\n",
        "plt.xlabel('chirps/sec for striped ground crickets')\n",
        "plt.ylabel('temperature in degrees Fahrenheit')\n",
        "plt.xlim([13,21])\n",
        "plt.ylim([65,95])\n",
        "plt.show()"
      ],
      "execution_count": 0,
      "outputs": [
        {
          "output_type": "display_data",
          "data": {
            "image/png": "[encoded data removed]",
            "text/plain": [
              "<Figure size 432x288 with 1 Axes>"
            ]
          },
          "metadata": {
            "tags": []
          }
        }
      ]
    },
    {
      "cell_type": "markdown",
      "metadata": {
        "id": "aySjsl3cV_Ux",
        "colab_type": "text"
      },
      "source": [
        "Our goal is to find the equation of the straight line $h_\\theta(x) = \\theta_0 + \\theta_1 x$ that best fits our data points. The function that we are trying to minimize in this case is:\n",
        "\n",
        "$J(\\theta_0,\\theta_1) = {1 \\over 2m} \\sum\\limits_{i=1}^m (h_\\theta(x_i)-y_i)^2$\n",
        "\n",
        "In this case, our gradient will be defined in two dimensions:\n",
        "\n",
        "$\\frac{\\partial}{\\partial \\theta_0} J(\\theta_0,\\theta_1) = \\frac{1}{m}  \\sum\\limits_{i=1}^m (h_\\theta(x_i)-y_i)$\n",
        "\n",
        "$\\frac{\\partial}{\\partial \\theta_1} J(\\theta_0,\\theta_1) = \\frac{1}{m}  \\sum\\limits_{i=1}^m ((h_\\theta(x_i)-y_i) \\cdot x_i)$\n",
        "\n",
        "Below, we set up our function for h, J and the gradient:"
      ]
    },
    {
      "cell_type": "code",
      "metadata": {
        "id": "W4gr032jV_Uy",
        "colab_type": "code",
        "colab": {}
      },
      "source": [
        "h = lambda theta_0,theta_1,x: theta_0 + theta_1*x\n",
        "\n",
        "def J(x,y,m,theta_0,theta_1):\n",
        "    returnValue = 0\n",
        "    for i in range(m):\n",
        "        returnValue += (h(theta_0,theta_1,x[i])-y[i])**2\n",
        "    returnValue = returnValue/(2*m)\n",
        "    return returnValue\n",
        "\n",
        "def grad_J(x,y,m,theta_0,theta_1):\n",
        "    returnValue = np.array([0.,0.])\n",
        "    for i in range(m):\n",
        "        returnValue[0] += (h(theta_0,theta_1,x[i])-y[i])\n",
        "        returnValue[1] += (h(theta_0,theta_1,x[i])-y[i])*x[i]\n",
        "    returnValue = returnValue/(m)\n",
        "    return returnValue"
      ],
      "execution_count": 0,
      "outputs": []
    },
    {
      "cell_type": "markdown",
      "metadata": {
        "id": "oIIbmRJ_V_U1",
        "colab_type": "text"
      },
      "source": [
        "Now, we'll load our data into the x and y variables;"
      ]
    },
    {
      "cell_type": "code",
      "metadata": {
        "id": "Qxu-PAsFV_U2",
        "colab_type": "code",
        "colab": {}
      },
      "source": [
        "x = data[:, 0]\n",
        "y = data[:, 1]\n",
        "m = len(x)"
      ],
      "execution_count": 0,
      "outputs": []
    },
    {
      "cell_type": "markdown",
      "metadata": {
        "id": "m1kSw0QIV_U4",
        "colab_type": "text"
      },
      "source": [
        "And we run our gradient descent algorithm (without adaptive step sizes in this example):"
      ]
    },
    {
      "cell_type": "code",
      "metadata": {
        "id": "qefrVXpXV_U5",
        "colab_type": "code",
        "outputId": "78cca988-bd37-4f4e-9fb9-7e6e166f0500",
        "colab": {
          "base_uri": "https://localhost:8080/",
          "height": 85
        }
      },
      "source": [
        "theta_old = np.array([0.,0.])\n",
        "theta_new = np.array([1.,1.]) # The algorithm starts at [1,1]\n",
        "n_k = 0.001 # step size\n",
        "precision = 0.001\n",
        "num_steps = 0\n",
        "s_k = float(\"inf\")\n",
        "\n",
        "while np.linalg.norm(s_k) > precision:\n",
        "    num_steps += 1\n",
        "    theta_old = theta_new\n",
        "    s_k = -grad_J(x,y,m,theta_old[0],theta_old[1])\n",
        "    theta_new = theta_old + n_k * s_k\n",
        "\n",
        "print(\"Local minimum occurs where:\")\n",
        "print('theta_0 = {:.3f}'.format(theta_new[0]))\n",
        "print('theta_1 = {:.3f}'.format(theta_new[1]))\n",
        "print(\"This took\",num_steps,\"steps to converge\")"
      ],
      "execution_count": 0,
      "outputs": [
        {
          "output_type": "stream",
          "text": [
            "Local minimum occurs where:\n",
            "theta_0 = 25.129\n",
            "theta_1 = 3.297\n",
            "This took 565859 steps to converge\n"
          ],
          "name": "stdout"
        }
      ]
    },
    {
      "cell_type": "markdown",
      "metadata": {
        "id": "Nsr8Z4o_V_U7",
        "colab_type": "text"
      },
      "source": [
        "For comparison, let's get the actual values for $\\theta_0$ and $\\theta_1$:"
      ]
    },
    {
      "cell_type": "code",
      "metadata": {
        "id": "896WtGTAV_U8",
        "colab_type": "code",
        "outputId": "06603b24-15b6-425e-bbd7-2f8865914b43",
        "colab": {
          "base_uri": "https://localhost:8080/",
          "height": 68
        }
      },
      "source": [
        "actualvalues = sp.stats.linregress(x,y)\n",
        "print(\"Actual values for theta (using built-in linear regression) are:\")\n",
        "print('theta_0 = {:.3f}'.format(actualvalues.intercept))\n",
        "print('theta_1 = {:.3f}'.format(actualvalues.slope))\n"
      ],
      "execution_count": 0,
      "outputs": [
        {
          "output_type": "stream",
          "text": [
            "Actual values for theta (using built-in linear regression) are:\n",
            "theta_0 = 25.232\n",
            "theta_1 = 3.291\n"
          ],
          "name": "stdout"
        }
      ]
    },
    {
      "cell_type": "markdown",
      "metadata": {
        "id": "yOyn0MCuV_VB",
        "colab_type": "text"
      },
      "source": [
        "So we see that our values are relatively close to the actual values (even though our method was pretty slow). If you look at the source code of [linregress](https://github.com/scipy/scipy/blob/master/scipy/stats/_stats_mstats_common.py), it uses the convariance matrix of x and y to compute fastly. Below, you can see a plot of the line drawn with our theta values against the data:"
      ]
    },
    {
      "cell_type": "code",
      "metadata": {
        "id": "3QLgeENWV_VC",
        "colab_type": "code",
        "outputId": "c07aa4cc-d6f9-4bee-a3d9-686558283457",
        "colab": {
          "base_uri": "https://localhost:8080/",
          "height": 295
        }
      },
      "source": [
        "xx = np.linspace(0,21,1000)\n",
        "plt.scatter(data[:, 0], data[:, 1], marker='o', c='b')\n",
        "plt.plot(xx,h(theta_new[0],theta_new[1],xx))\n",
        "plt.xlim([13,21])\n",
        "plt.ylim([65,95])\n",
        "plt.title('cricket chirps vs temperature')\n",
        "plt.xlabel('chirps/sec for striped ground crickets')\n",
        "plt.ylabel('temperature in degrees Fahrenheit')\n",
        "plt.show()"
      ],
      "execution_count": 0,
      "outputs": [
        {
          "output_type": "display_data",
          "data": {
            "image/png": "[encoded data removed]",
            "text/plain": [
              "<Figure size 432x288 with 1 Axes>"
            ]
          },
          "metadata": {
            "tags": []
          }
        }
      ]
    },
    {
      "cell_type": "markdown",
      "metadata": {
        "id": "Gjy3oJnEV_VJ",
        "colab_type": "text"
      },
      "source": [
        "Notice that in the method above we need to calculate the gradient in every step of our algorithm. In the example with the crickets, this is not a big deal since there are only 15 data points. But imagine that we had 10 million data points. If this were the case, it would certainly make the method above far less efficient.\n",
        "\n",
        "In machine learning, the algorithm above is often called <b>batch gradient descent</b> to contrast it with <b>mini-batch gradient descent</b> (which we will not go into here) and <b>stochastic gradient descent</b>."
      ]
    },
    {
      "cell_type": "markdown",
      "metadata": {
        "id": "AxlZxTr8V_VL",
        "colab_type": "text"
      },
      "source": [
        "### Stochastic gradient descent"
      ]
    },
    {
      "cell_type": "markdown",
      "metadata": {
        "id": "rhLU275RV_VN",
        "colab_type": "text"
      },
      "source": [
        "As we said above, in batch gradient descent, we must look at every example in the entire training set on every step (in cases where a training set is used for gradient descent). This can be quite slow if the training set is sufficiently large. In <b>stochastic gradient descent</b>, we update our values after looking at <i>each</i> item in the training set, so that we can start making progress right away. Recall the linear regression example above. In that example, we calculated the gradient for each of the two theta values as follows:\n",
        "\n",
        "$\\frac{\\partial}{\\partial \\theta_0} J(\\theta_0,\\theta_1) = \\frac{1}{m}  \\sum\\limits_{i=1}^m (h_\\theta(x_i)-y_i)$\n",
        "\n",
        "$\\frac{\\partial}{\\partial \\theta_1} J(\\theta_0,\\theta_1) = \\frac{1}{m}  \\sum\\limits_{i=1}^m ((h_\\theta(x_i)-y_i) \\cdot x_i)$\n",
        "\n",
        "Where $h_\\theta(x) = \\theta_0 + \\theta_1 x$\n",
        "\n",
        "Then we followed this algorithm (where $\\alpha$ was a non-adapting stepsize):\n",
        "\n",
        "&nbsp;&nbsp;&nbsp; 1: &nbsp; Choose initial guess $x_0$ <br>\n",
        "&nbsp;&nbsp;&nbsp;    2: &nbsp; <b>for</b> k = 0, 1, 2, ... <b>do</b> <br>\n",
        "&nbsp;&nbsp;&nbsp;    3:   &nbsp;&nbsp;&nbsp;&nbsp;&nbsp; $s_k$ = -$\\nabla f(x_k)$ <br>\n",
        "&nbsp;&nbsp;&nbsp;    4:   &nbsp;&nbsp;&nbsp;&nbsp;&nbsp; $x_{k+1} = x_k + \\alpha s_k$ <br>\n",
        "&nbsp;&nbsp;&nbsp;    5: &nbsp;  <b>end for</b>\n",
        "\n",
        "When the sample data had 15 data points as in the example above, calculating the gradient was not very costly. But for very large data sets, this would not be the case. So instead, we consider a stochastic gradient descent algorithm for simple linear regression such as the following, where m is the size of the data set:\n",
        "\n",
        "&nbsp;&nbsp;&nbsp; 1: &nbsp; Randomly shuffle the data set <br>\n",
        "&nbsp;&nbsp;&nbsp;    2: &nbsp; <b>for</b> k = 0, 1, 2, ... <b>do</b> <br>\n",
        "&nbsp;&nbsp;&nbsp;    3: &nbsp;&nbsp;&nbsp;&nbsp;&nbsp; <b>for</b> i = 1 to m <b>do</b> <br>\n",
        "&nbsp;&nbsp;&nbsp;    4:   &nbsp;&nbsp;&nbsp;&nbsp;&nbsp;&nbsp;&nbsp;&nbsp;&nbsp;&nbsp; $\\begin{bmatrix}\n",
        " \\theta_{1} \\\\ \n",
        " \\theta_2 \\\\ \n",
        " \\end{bmatrix}=\\begin{bmatrix}\n",
        " \\theta_1 \\\\ \n",
        " \\theta_2 \\\\ \n",
        " \\end{bmatrix}-\\alpha\\begin{bmatrix}\n",
        " 2(h_\\theta(x_i)-y_i) \\\\ \n",
        " 2x_i(h_\\theta(x_i)-y_i) \\\\ \n",
        " \\end{bmatrix}$ <br>\n",
        "&nbsp;&nbsp;&nbsp;    5: &nbsp;&nbsp;&nbsp;&nbsp;&nbsp; <b>end for</b> <br> \n",
        "&nbsp;&nbsp;&nbsp;    6: &nbsp;  <b>end for</b>\n",
        "\n",
        "Typically, with stochastic gradient descent, you will run through the entire data set 1 to 10 times (see value for k in line 2 of the pseudocode above), depending on how fast the data is converging and how large the data set is.\n",
        "\n",
        "With batch gradient descent, we must go through the entire data set before we make any progress. With this algorithm though, we can make progress right away and continue to make progress as we go through the data set. Therefore, stochastic gradient descent is often preferred when dealing with large data sets.\n",
        "\n",
        "Unlike gradient descent, stochastic gradient descent will tend to oscillate <i>near</i> a minimum value rather than continuously getting closer. It may never actually converge to the minimum though. One way around this is to slowly decrease the step size $\\alpha$ as the algorithm runs. However, this is less common than using a fixed $\\alpha$.\n",
        "\n",
        "Let's look at another example where we illustrate the use of stochastic gradient descent for linear regression. In the example below, we'll create a set of 500,000 points around the line $y = 2x+17+\\epsilon$, for values of x between 0 and 100:"
      ]
    },
    {
      "cell_type": "code",
      "metadata": {
        "id": "9e6KzewtV_VQ",
        "colab_type": "code",
        "colab": {}
      },
      "source": [
        "f = lambda x: x*2+17+np.random.randn(len(x))*10\n",
        "\n",
        "x = np.random.random(500000)*100\n",
        "y = f(x) \n",
        "m = len(y)"
      ],
      "execution_count": 0,
      "outputs": []
    },
    {
      "cell_type": "markdown",
      "metadata": {
        "id": "MxmiPubfV_VV",
        "colab_type": "text"
      },
      "source": [
        "First, let's randomly shuffle around our dataset. Note that in this example, this step isn't strictly necessary since the data is already in a random order. However, that obviously may not always be the case:"
      ]
    },
    {
      "cell_type": "code",
      "metadata": {
        "id": "aF_CKFSmV_Vf",
        "colab_type": "code",
        "colab": {}
      },
      "source": [
        "from random import shuffle\n",
        "\n",
        "x_shuf = []\n",
        "y_shuf = []\n",
        "index_shuf = list(range(len(x)))\n",
        "shuffle(index_shuf)\n",
        "for i in index_shuf:\n",
        "    x_shuf.append(x[i])\n",
        "    y_shuf.append(y[i])"
      ],
      "execution_count": 0,
      "outputs": []
    },
    {
      "cell_type": "markdown",
      "metadata": {
        "id": "6O4imNwdV_Vq",
        "colab_type": "text"
      },
      "source": [
        "Now we'll setup our h function and our cost function, which we will use to check how the value is improving."
      ]
    },
    {
      "cell_type": "code",
      "metadata": {
        "id": "1n9J7gy0V_Vr",
        "colab_type": "code",
        "colab": {}
      },
      "source": [
        "h = lambda theta_0,theta_1,x: theta_0 + theta_1*x\n",
        "cost = lambda theta_0,theta_1, x_i, y_i: 0.5*(h(theta_0,theta_1,x_i)-y_i)**2"
      ],
      "execution_count": 0,
      "outputs": []
    },
    {
      "cell_type": "markdown",
      "metadata": {
        "id": "uK40XjW2V_V2",
        "colab_type": "text"
      },
      "source": [
        "Now we'll run our stochastic gradient descent algorithm. To see it's progress, we'll take a cost measurement at every step. Every 10,000 steps, we'll get an average cost from the last 10,000 steps and then append that to our cost_list variable. We will run through the entire list 10 times here:"
      ]
    },
    {
      "cell_type": "code",
      "metadata": {
        "id": "1Yd0CpUjV_V4",
        "colab_type": "code",
        "outputId": "68e7bf30-9e21-4df9-ee98-eb66f38edb69",
        "colab": {
          "base_uri": "https://localhost:8080/",
          "height": 68
        }
      },
      "source": [
        "theta_old = np.array([0.,0.])\n",
        "theta_new = np.array([1.,1.]) # The algorithm starts at [1,1]\n",
        "n_k = 0.000005 # step size\n",
        "\n",
        "iter_num = 0\n",
        "s_k = np.array([float(\"inf\"),float(\"inf\")])\n",
        "sum_cost = 0\n",
        "cost_list = []\n",
        "\n",
        "for j in range(10):\n",
        "    for i in range(m):\n",
        "        iter_num += 1\n",
        "        theta_old = theta_new\n",
        "        s_k[0] = (h(theta_old[0],theta_old[1],x[i])-y[i])\n",
        "        s_k[1] = (h(theta_old[0],theta_old[1],x[i])-y[i])*x[i]\n",
        "        s_k = (-1)*s_k\n",
        "        theta_new = theta_old + n_k * s_k\n",
        "        sum_cost += cost(theta_old[0],theta_old[1],x[i],y[i])\n",
        "        if (i+1) % 10000 == 0:\n",
        "            cost_list.append(sum_cost/10000.0)\n",
        "            sum_cost = 0   \n",
        "            \n",
        "print(\"Local minimum occurs where:\")\n",
        "print('theta_0 = {:.3f}'.format(theta_new[0]))\n",
        "print('theta_1 = {:.3f}'.format(theta_new[1]))"
      ],
      "execution_count": 0,
      "outputs": [
        {
          "output_type": "stream",
          "text": [
            "Local minimum occurs where:\n",
            "theta_0 = 16.977\n",
            "theta_1 = 1.980\n"
          ],
          "name": "stdout"
        }
      ]
    },
    {
      "cell_type": "markdown",
      "metadata": {
        "id": "RPk7J6lZV_V8",
        "colab_type": "text"
      },
      "source": [
        "As you can see, our values for $\\theta_0$ and $\\theta_1$ are close to their true values of 17 and 2.\n",
        "\n",
        "Now, we plot our cost versus the number of iterations. As you can see, the cost goes down quickly at first, but starts to level off as we go through more iterations:"
      ]
    },
    {
      "cell_type": "code",
      "metadata": {
        "id": "YDqsqI5GV_V9",
        "colab_type": "code",
        "outputId": "6425f8b7-ffbd-4ea1-aaae-2ee72569e110",
        "colab": {
          "base_uri": "https://localhost:8080/",
          "height": 283
        }
      },
      "source": [
        "iterations = np.arange(len(cost_list))*10000\n",
        "plt.plot(iterations,cost_list)\n",
        "plt.xlabel(\"iterations\")\n",
        "plt.ylabel(\"avg cost\")\n",
        "plt.show()"
      ],
      "execution_count": 0,
      "outputs": [
        {
          "output_type": "display_data",
          "data": {
            "image/png": "[encoded data removed]",
            "text/plain": [
              "<Figure size 432x288 with 1 Axes>"
            ]
          },
          "metadata": {
            "tags": []
          }
        }
      ]
    },
    {
      "cell_type": "markdown",
      "metadata": {
        "id": "o_REaWatV_WB",
        "colab_type": "text"
      },
      "source": [
        "Why do we see 10 regular \"peaks\" in the curve above? *(Hint: What did we fail to do at the start of each epoch?)*\n",
        "\n",
        "\n",
        "**Challenge: Can you implement mini-batch SGD using the data and code above?** "
      ]
    }
  ]
}