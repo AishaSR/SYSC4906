{
  "nbformat": 4,
  "nbformat_minor": 0,
  "metadata": {
    "colab": {
      "name": "Lecture_13.ipynb",
      "provenance": [],
      "include_colab_link": true
    },
    "kernelspec": {
      "name": "python3",
      "display_name": "Python 3"
    }
  },
  "cells": [
    {
      "cell_type": "markdown",
      "metadata": {
        "id": "view-in-github",
        "colab_type": "text"
      },
      "source": [
        "<a href=\"https://colab.research.google.com/github/jrgreen7/SYSC4906/blob/master/Lecture_13.ipynb\" target=\"_parent\"><img src=\"https://colab.research.google.com/assets/colab-badge.svg\" alt=\"Open In Colab\"/></a>"
      ]
    },
    {
      "cell_type": "markdown",
      "metadata": {
        "id": "wuqvpmiI2OkI",
        "colab_type": "text"
      },
      "source": [
        "Notebook to illustrate effect of using drop-out during training of feed-forward neural network for classifying MNIST digits dataset.\n",
        "\n",
        "Based on excellent tutorial by Cory Maklin available at: https://towardsdatascience.com/machine-learning-part-20-dropout-keras-layers-explained-8c9f6dc4c9ab"
      ]
    },
    {
      "cell_type": "code",
      "metadata": {
        "id": "HPFuYHlZ2NoW",
        "colab_type": "code",
        "colab": {
          "base_uri": "https://localhost:8080/",
          "height": 265
        },
        "outputId": "071c6554-48ca-4c1f-b548-f42b80e0b332"
      },
      "source": [
        "# Step 0: import required libraries\n",
        "from keras.datasets import mnist\n",
        "from matplotlib import pyplot as plt\n",
        "#plt.style.use('dark_background')\n",
        "from keras.models import Sequential\n",
        "from keras.layers import Dense, Flatten, Activation, Dropout\n",
        "from keras.utils import normalize, to_categorical\n",
        "\n",
        "# Step 1: load the MNIST digits dataset pre-split into train/test\n",
        "(X_train, y_train), (X_test, y_test) = mnist.load_data()\n",
        "\n",
        "# Visualize the first training exemplar:\n",
        "plt.imshow(X_train[0], cmap = plt.cm.binary)\n",
        "plt.show()"
      ],
      "execution_count": 2,
      "outputs": [
        {
          "output_type": "display_data",
          "data": {
            "image/png": "[encoded data removed]",
            "text/plain": [
              "<Figure size 432x288 with 1 Axes>"
            ]
          },
          "metadata": {
            "tags": []
          }
        }
      ]
    },
    {
      "cell_type": "code",
      "metadata": {
        "id": "funWVJsG32MA",
        "colab_type": "code",
        "colab": {}
      },
      "source": [
        "# Normalize the input images to speed training (model convergence)\n",
        "X_train = normalize(X_train, axis=1)\n",
        "X_test = normalize(X_test, axis=1)\n",
        "\n",
        "# Use one-hot encoding of target/output variable\n",
        "# Avoids unintended relationships between output values \n",
        "#(e.g. is confusing a '3' as a '2' less bad than confusing\n",
        "# a '3' as a '9'? No. So avoid 3 being \"closer\" to '2' than '9')\n",
        "y_train = to_categorical(y_train)\n",
        "y_test = to_categorical(y_test)\n"
      ],
      "execution_count": 0,
      "outputs": []
    },
    {
      "cell_type": "markdown",
      "metadata": {
        "id": "FS1TWC8U4lYq",
        "colab_type": "text"
      },
      "source": [
        "# Create a model without dropout\n",
        "\n",
        "Will:\n",
        "- Create the FFNN model\n",
        "- Include a 'flatten' layer to convert the input images into input vectors\n",
        "- Print summary of the model, including number of parameters in each layer.\n"
      ]
    },
    {
      "cell_type": "code",
      "metadata": {
        "id": "GmgWVOvg4fRH",
        "colab_type": "code",
        "colab": {
          "base_uri": "https://localhost:8080/",
          "height": 488
        },
        "outputId": "f17da70e-79d6-4e67-a68b-e8a70d72fe77"
      },
      "source": [
        "# Build the feed-forward neural network:\n",
        "model = Sequential()\n",
        "model.add(Flatten(input_shape=(28, 28)))\n",
        "model.add(Dense(128))\n",
        "model.add(Activation('relu'))\n",
        "model.add(Dense(128))\n",
        "model.add(Activation('relu'))\n",
        "model.add(Dense(10))\n",
        "model.add(Activation('softmax')) # Use softmax since multi-class\n",
        "\n",
        "# Print summary of model:\n",
        "model.summary()\n",
        "\n",
        "## Compile the model\n",
        "# Use categorical crossentroly as loss function since predicting classes\n",
        "# Performance measured using accurcay.\n",
        "# ADAM variant of gradient descent used for training.\n",
        "model.compile(\n",
        "    loss='categorical_crossentropy',\n",
        "    optimizer='adam',\n",
        "    metrics=['accuracy']\n",
        ")"
      ],
      "execution_count": 6,
      "outputs": [
        {
          "output_type": "stream",
          "text": [
            "Model: \"sequential_2\"\n",
            "_________________________________________________________________\n",
            "Layer (type)                 Output Shape              Param #   \n",
            "=================================================================\n",
            "flatten_2 (Flatten)          (None, 784)               0         \n",
            "_________________________________________________________________\n",
            "dense_4 (Dense)              (None, 128)               100480    \n",
            "_________________________________________________________________\n",
            "activation_4 (Activation)    (None, 128)               0         \n",
            "_________________________________________________________________\n",
            "dense_5 (Dense)              (None, 128)               16512     \n",
            "_________________________________________________________________\n",
            "activation_5 (Activation)    (None, 128)               0         \n",
            "_________________________________________________________________\n",
            "dense_6 (Dense)              (None, 10)                1290      \n",
            "_________________________________________________________________\n",
            "activation_6 (Activation)    (None, 10)                0         \n",
            "=================================================================\n",
            "Total params: 118,282\n",
            "Trainable params: 118,282\n",
            "Non-trainable params: 0\n",
            "_________________________________________________________________\n",
            "WARNING:tensorflow:From /usr/local/lib/python3.6/dist-packages/keras/optimizers.py:793: The name tf.train.Optimizer is deprecated. Please use tf.compat.v1.train.Optimizer instead.\n",
            "\n",
            "WARNING:tensorflow:From /usr/local/lib/python3.6/dist-packages/keras/backend/tensorflow_backend.py:3576: The name tf.log is deprecated. Please use tf.math.log instead.\n",
            "\n"
          ],
          "name": "stdout"
        }
      ]
    },
    {
      "cell_type": "code",
      "metadata": {
        "id": "ZqE8iqjq7Gc5",
        "colab_type": "code",
        "colab": {}
      },
      "source": [
        "# Train the model using the training data\n",
        "# Test data will evaluate degree of overfit (with/without dropout)\n",
        "\n",
        "# Use a batch size of 32 (32 training samples chosen randomly per batch prior to updating weights)\n",
        "# From the tutorial: \"A batch size of 32 implies that we will compute the gradient and take a step in the direction of the gradient with a magnitude equal to the learning rate, after having pass 32 samples through the neural network. We do this a total of 10 times as specified by the number of epochs.\""
      ],
      "execution_count": 0,
      "outputs": []
    },
    {
      "cell_type": "code",
      "metadata": {
        "id": "yOLmeyNL7o-_",
        "colab_type": "code",
        "colab": {
          "base_uri": "https://localhost:8080/",
          "height": 731
        },
        "outputId": "fca2a820-e62c-45e5-97d7-d5093be71503"
      },
      "source": [
        "history = model.fit(\n",
        "    X_train,\n",
        "    y_train,\n",
        "    epochs=10,\n",
        "    batch_size=32,\n",
        "    validation_split=0.1,\n",
        "    verbose = 1,\n",
        "    shuffle=True\n",
        ")"
      ],
      "execution_count": 7,
      "outputs": [
        {
          "output_type": "stream",
          "text": [
            "WARNING:tensorflow:From /usr/local/lib/python3.6/dist-packages/tensorflow_core/python/ops/math_grad.py:1424: where (from tensorflow.python.ops.array_ops) is deprecated and will be removed in a future version.\n",
            "Instructions for updating:\n",
            "Use tf.where in 2.0, which has the same broadcast rule as np.where\n",
            "WARNING:tensorflow:From /usr/local/lib/python3.6/dist-packages/keras/backend/tensorflow_backend.py:1033: The name tf.assign_add is deprecated. Please use tf.compat.v1.assign_add instead.\n",
            "\n",
            "WARNING:tensorflow:From /usr/local/lib/python3.6/dist-packages/keras/backend/tensorflow_backend.py:1020: The name tf.assign is deprecated. Please use tf.compat.v1.assign instead.\n",
            "\n",
            "WARNING:tensorflow:From /usr/local/lib/python3.6/dist-packages/keras/backend/tensorflow_backend.py:3005: The name tf.Session is deprecated. Please use tf.compat.v1.Session instead.\n",
            "\n",
            "Train on 54000 samples, validate on 6000 samples\n",
            "Epoch 1/10\n",
            "WARNING:tensorflow:From /usr/local/lib/python3.6/dist-packages/keras/backend/tensorflow_backend.py:190: The name tf.get_default_session is deprecated. Please use tf.compat.v1.get_default_session instead.\n",
            "\n",
            "WARNING:tensorflow:From /usr/local/lib/python3.6/dist-packages/keras/backend/tensorflow_backend.py:197: The name tf.ConfigProto is deprecated. Please use tf.compat.v1.ConfigProto instead.\n",
            "\n",
            "WARNING:tensorflow:From /usr/local/lib/python3.6/dist-packages/keras/backend/tensorflow_backend.py:207: The name tf.global_variables is deprecated. Please use tf.compat.v1.global_variables instead.\n",
            "\n",
            "WARNING:tensorflow:From /usr/local/lib/python3.6/dist-packages/keras/backend/tensorflow_backend.py:216: The name tf.is_variable_initialized is deprecated. Please use tf.compat.v1.is_variable_initialized instead.\n",
            "\n",
            "WARNING:tensorflow:From /usr/local/lib/python3.6/dist-packages/keras/backend/tensorflow_backend.py:223: The name tf.variables_initializer is deprecated. Please use tf.compat.v1.variables_initializer instead.\n",
            "\n",
            "54000/54000 [==============================] - 7s 127us/step - loss: 0.2764 - acc: 0.9192 - val_loss: 0.1089 - val_acc: 0.9695\n",
            "Epoch 2/10\n",
            "54000/54000 [==============================] - 6s 107us/step - loss: 0.1098 - acc: 0.9660 - val_loss: 0.0898 - val_acc: 0.9727\n",
            "Epoch 3/10\n",
            "54000/54000 [==============================] - 6s 106us/step - loss: 0.0761 - acc: 0.9764 - val_loss: 0.0803 - val_acc: 0.9755\n",
            "Epoch 4/10\n",
            "54000/54000 [==============================] - 6s 111us/step - loss: 0.0568 - acc: 0.9819 - val_loss: 0.0720 - val_acc: 0.9777\n",
            "Epoch 5/10\n",
            "54000/54000 [==============================] - 6s 107us/step - loss: 0.0436 - acc: 0.9859 - val_loss: 0.0812 - val_acc: 0.9770\n",
            "Epoch 6/10\n",
            "54000/54000 [==============================] - 6s 104us/step - loss: 0.0338 - acc: 0.9886 - val_loss: 0.0784 - val_acc: 0.9772\n",
            "Epoch 7/10\n",
            "54000/54000 [==============================] - 5s 101us/step - loss: 0.0242 - acc: 0.9918 - val_loss: 0.0787 - val_acc: 0.9792\n",
            "Epoch 8/10\n",
            "54000/54000 [==============================] - 6s 104us/step - loss: 0.0233 - acc: 0.9923 - val_loss: 0.0865 - val_acc: 0.9775\n",
            "Epoch 9/10\n",
            "54000/54000 [==============================] - 5s 100us/step - loss: 0.0171 - acc: 0.9945 - val_loss: 0.0991 - val_acc: 0.9775\n",
            "Epoch 10/10\n",
            "54000/54000 [==============================] - 6s 103us/step - loss: 0.0182 - acc: 0.9938 - val_loss: 0.0850 - val_acc: 0.9792\n"
          ],
          "name": "stdout"
        }
      ]
    },
    {
      "cell_type": "code",
      "metadata": {
        "id": "yiAscdgF70sM",
        "colab_type": "code",
        "colab": {
          "base_uri": "https://localhost:8080/",
          "height": 295
        },
        "outputId": "93bcb86b-d66e-478d-84d6-2a2b0de75007"
      },
      "source": [
        "#We can plot the training and validation accuracies at each epoch by using the history variable returned by the fit function.\n",
        "\n",
        "loss = history.history['loss']\n",
        "val_loss = history.history['val_loss']\n",
        "epochs = range(1, len(loss) + 1)\n",
        "plt.plot(epochs, loss, 'y', label='Training loss')\n",
        "plt.plot(epochs, val_loss, 'r', label='Validation loss')\n",
        "plt.title('Training and validation loss')\n",
        "plt.xlabel('Epochs')\n",
        "plt.ylabel('Loss')\n",
        "plt.legend()\n",
        "plt.show()"
      ],
      "execution_count": 8,
      "outputs": [
        {
          "output_type": "display_data",
          "data": {
            "image/png": "[encoded data removed]",
            "text/plain": [
              "<Figure size 432x288 with 1 Axes>"
            ]
          },
          "metadata": {
            "tags": []
          }
        }
      ]
    },
    {
      "cell_type": "markdown",
      "metadata": {
        "id": "32XJik-O78EL",
        "colab_type": "text"
      },
      "source": [
        "# Performance without dropout\n",
        "Note from the above figure that the validation loss stops dropping after the first 3 epochs.\n",
        "\n",
        "Let's look at the training and validation accuracy (will follow the same trend as the loss)"
      ]
    },
    {
      "cell_type": "code",
      "metadata": {
        "id": "9xXbDZ1r8K0q",
        "colab_type": "code",
        "colab": {
          "base_uri": "https://localhost:8080/",
          "height": 295
        },
        "outputId": "9f93149d-e837-4eff-d904-d166732bab37"
      },
      "source": [
        "acc = history.history['acc']\n",
        "val_acc = history.history['val_acc']\n",
        "plt.plot(epochs, acc, 'y', label='Training acc')\n",
        "plt.plot(epochs, val_acc, 'r', label='Validation acc')\n",
        "plt.title('Training and validation accuracy')\n",
        "plt.xlabel('Epochs')\n",
        "plt.ylabel('Accuracy')\n",
        "plt.legend()\n",
        "plt.show()"
      ],
      "execution_count": 9,
      "outputs": [
        {
          "output_type": "display_data",
          "data": {
            "image/png": "[encoded data removed]",
            "text/plain": [
              "<Figure size 432x288 with 1 Axes>"
            ]
          },
          "metadata": {
            "tags": []
          }
        }
      ]
    },
    {
      "cell_type": "code",
      "metadata": {
        "id": "WkT05AVq8SX6",
        "colab_type": "code",
        "colab": {
          "base_uri": "https://localhost:8080/",
          "height": 52
        },
        "outputId": "79a872c0-c7c8-4e69-99df-9bfadc156fb0"
      },
      "source": [
        "# Report final validation accuracy (97.5%):\n",
        "test_loss, test_acc = model.evaluate(X_test, y_test)\n",
        "test_acc"
      ],
      "execution_count": 10,
      "outputs": [
        {
          "output_type": "stream",
          "text": [
            "10000/10000 [==============================] - 0s 27us/step\n"
          ],
          "name": "stdout"
        },
        {
          "output_type": "execute_result",
          "data": {
            "text/plain": [
              "0.9754"
            ]
          },
          "metadata": {
            "tags": []
          },
          "execution_count": 10
        }
      ]
    },
    {
      "cell_type": "markdown",
      "metadata": {
        "id": "IRPnGHFJ8YCh",
        "colab_type": "text"
      },
      "source": [
        "# Add drop-out to the model\n",
        "From the tutorial: \"There’s some debate as to whether the dropout should be placed before or after the activation function. As a rule of thumb, place the dropout after the activate function for all activation functions other than relu. In passing 0.5, every hidden unit (neuron) is set to 0 with a probability of 0.5. In other words, there’s a 50% change that the output of a given neuron will be forced to 0.\""
      ]
    },
    {
      "cell_type": "code",
      "metadata": {
        "id": "YztyjFhh8njB",
        "colab_type": "code",
        "colab": {
          "base_uri": "https://localhost:8080/",
          "height": 468
        },
        "outputId": "30854d4a-72c6-495a-94e5-0b482d850adf"
      },
      "source": [
        "# Rebuild the model, this time adding drop-out of 50% of nodes\n",
        "\n",
        "model_dropout = Sequential()\n",
        "model_dropout.add(Flatten(input_shape=(28, 28)))\n",
        "model_dropout.add(Dense(128))\n",
        "model_dropout.add(Dropout(0.5))\n",
        "model_dropout.add(Activation('relu'))\n",
        "model_dropout.add(Dense(128))\n",
        "model_dropout.add(Dropout(0.5))\n",
        "model_dropout.add(Activation('relu'))\n",
        "model_dropout.add(Dense(10))\n",
        "model_dropout.add(Activation('softmax'))\n",
        "model_dropout.summary()\n",
        "\n",
        "# Compile the model (same as above)\n",
        "model_dropout.compile(\n",
        "    loss='categorical_crossentropy',\n",
        "    optimizer='adam',\n",
        "    metrics=['accuracy']\n",
        ")"
      ],
      "execution_count": 13,
      "outputs": [
        {
          "output_type": "stream",
          "text": [
            "Model: \"sequential_4\"\n",
            "_________________________________________________________________\n",
            "Layer (type)                 Output Shape              Param #   \n",
            "=================================================================\n",
            "flatten_4 (Flatten)          (None, 784)               0         \n",
            "_________________________________________________________________\n",
            "dense_10 (Dense)             (None, 128)               100480    \n",
            "_________________________________________________________________\n",
            "dropout_3 (Dropout)          (None, 128)               0         \n",
            "_________________________________________________________________\n",
            "activation_10 (Activation)   (None, 128)               0         \n",
            "_________________________________________________________________\n",
            "dense_11 (Dense)             (None, 128)               16512     \n",
            "_________________________________________________________________\n",
            "dropout_4 (Dropout)          (None, 128)               0         \n",
            "_________________________________________________________________\n",
            "activation_11 (Activation)   (None, 128)               0         \n",
            "_________________________________________________________________\n",
            "dense_12 (Dense)             (None, 10)                1290      \n",
            "_________________________________________________________________\n",
            "activation_12 (Activation)   (None, 10)                0         \n",
            "=================================================================\n",
            "Total params: 118,282\n",
            "Trainable params: 118,282\n",
            "Non-trainable params: 0\n",
            "_________________________________________________________________\n"
          ],
          "name": "stdout"
        }
      ]
    },
    {
      "cell_type": "markdown",
      "metadata": {
        "id": "5iTQVB2n9aEO",
        "colab_type": "text"
      },
      "source": [
        "\"By providing the validations split parameter, the model will set apart a fraction of the training data and will evaluate the loss and any model metrics on this data at the end of each epoch. If the premise behind dropout holds, then we should see a notable difference in the validation accuracy compared to the previous model. The shuffle parameter will shuffle the training data before each epoch.\""
      ]
    },
    {
      "cell_type": "code",
      "metadata": {
        "id": "Q_g-t86E9iic",
        "colab_type": "code",
        "colab": {
          "base_uri": "https://localhost:8080/",
          "height": 401
        },
        "outputId": "0ad5c33f-d39f-4f57-b47a-21369652a2dc"
      },
      "source": [
        "history_dropout = model_dropout.fit(\n",
        "    X_train,\n",
        "    y_train,\n",
        "    epochs=10,\n",
        "    batch_size=32,\n",
        "    validation_split=0.1,\n",
        "    verbose = 1,\n",
        "    shuffle=True\n",
        ")"
      ],
      "execution_count": 14,
      "outputs": [
        {
          "output_type": "stream",
          "text": [
            "Train on 54000 samples, validate on 6000 samples\n",
            "Epoch 1/10\n",
            "54000/54000 [==============================] - 6s 117us/step - loss: 0.5358 - acc: 0.8354 - val_loss: 0.1563 - val_acc: 0.9517\n",
            "Epoch 2/10\n",
            "54000/54000 [==============================] - 6s 114us/step - loss: 0.2935 - acc: 0.9154 - val_loss: 0.1227 - val_acc: 0.9640\n",
            "Epoch 3/10\n",
            "54000/54000 [==============================] - 6s 112us/step - loss: 0.2385 - acc: 0.9298 - val_loss: 0.1057 - val_acc: 0.9713\n",
            "Epoch 4/10\n",
            "54000/54000 [==============================] - 6s 117us/step - loss: 0.2143 - acc: 0.9375 - val_loss: 0.1005 - val_acc: 0.9717\n",
            "Epoch 5/10\n",
            "54000/54000 [==============================] - 6s 111us/step - loss: 0.1899 - acc: 0.9435 - val_loss: 0.0940 - val_acc: 0.9743\n",
            "Epoch 6/10\n",
            "54000/54000 [==============================] - 6s 112us/step - loss: 0.1812 - acc: 0.9471 - val_loss: 0.0818 - val_acc: 0.9762\n",
            "Epoch 7/10\n",
            "54000/54000 [==============================] - 6s 114us/step - loss: 0.1709 - acc: 0.9496 - val_loss: 0.0873 - val_acc: 0.9742\n",
            "Epoch 8/10\n",
            "54000/54000 [==============================] - 6s 113us/step - loss: 0.1615 - acc: 0.9526 - val_loss: 0.0810 - val_acc: 0.9770\n",
            "Epoch 9/10\n",
            "54000/54000 [==============================] - 6s 111us/step - loss: 0.1502 - acc: 0.9557 - val_loss: 0.0824 - val_acc: 0.9763\n",
            "Epoch 10/10\n",
            "54000/54000 [==============================] - 6s 114us/step - loss: 0.1474 - acc: 0.9560 - val_loss: 0.0842 - val_acc: 0.9760\n"
          ],
          "name": "stdout"
        }
      ]
    },
    {
      "cell_type": "markdown",
      "metadata": {
        "id": "GZt7KwAe9mHk",
        "colab_type": "text"
      },
      "source": [
        "Note that the **validation** loss achieved above using drop-out is substantially lower than the model that did not use drop-out.\n",
        "\n",
        "Let's plot it:"
      ]
    },
    {
      "cell_type": "code",
      "metadata": {
        "id": "2VY4GvDZ9xAV",
        "colab_type": "code",
        "colab": {
          "base_uri": "https://localhost:8080/",
          "height": 295
        },
        "outputId": "e6668b18-9810-47ec-b7ba-e3fefda8152f"
      },
      "source": [
        "loss = history_dropout.history['loss']\n",
        "val_loss = history_dropout.history['val_loss']\n",
        "epochs = range(1, len(loss) + 1)\n",
        "plt.plot(epochs, loss, 'y', label='Training loss')\n",
        "plt.plot(epochs, val_loss, 'r', label='Validation loss')\n",
        "plt.title('Training and validation loss')\n",
        "plt.xlabel('Epochs')\n",
        "plt.ylabel('Loss')\n",
        "plt.legend()\n",
        "plt.show()"
      ],
      "execution_count": 15,
      "outputs": [
        {
          "output_type": "display_data",
          "data": {
            "image/png": "[encoded data removed]",
            "text/plain": [
              "<Figure size 432x288 with 1 Axes>"
            ]
          },
          "metadata": {
            "tags": []
          }
        }
      ]
    },
    {
      "cell_type": "markdown",
      "metadata": {
        "id": "plxNICnZ995r",
        "colab_type": "text"
      },
      "source": [
        "\"As you can see, the model converged much faster and obtained an accuracy of close to 98% on the validation set, whereas the previous model plateaued around the third epoch.\""
      ]
    },
    {
      "cell_type": "code",
      "metadata": {
        "id": "Y9ECvzMA972c",
        "colab_type": "code",
        "colab": {}
      },
      "source": [
        "acc = history_dropout.history['acc']\n",
        "val_acc = history_dropout.history['val_acc']\n",
        "plt.plot(epochs, acc, 'y', label='Training acc')\n",
        "plt.plot(epochs, val_acc, 'r', label='Validation acc')\n",
        "plt.title('Training and validation accuracy')\n",
        "plt.xlabel('Epochs')\n",
        "plt.ylabel('Accuracy')\n",
        "plt.legend()\n",
        "plt.show()"
      ],
      "execution_count": 0,
      "outputs": []
    },
    {
      "cell_type": "markdown",
      "metadata": {
        "id": "2SRrm8MQ-AZC",
        "colab_type": "text"
      },
      "source": [
        "\"The accuracy obtained on the testing set isn’t very different than the one obtained from the model without dropout. This is in all likelihood due to the limited number of samples.\""
      ]
    },
    {
      "cell_type": "code",
      "metadata": {
        "id": "hAuEzZ0O-BYr",
        "colab_type": "code",
        "colab": {}
      },
      "source": [
        "test_loss, test_acc = model_dropout.evaluate(X_test, y_test)\n",
        "test_acc"
      ],
      "execution_count": 0,
      "outputs": []
    },
    {
      "cell_type": "markdown",
      "metadata": {
        "id": "aNp3XboD-Eba",
        "colab_type": "text"
      },
      "source": [
        "#Final Thoughts\n",
        "\"Dropout can help a model generalize by randomly setting the output for a given neuron to 0. In setting the output to 0, the cost function becomes more sensitive to neighbouring neurons changing the way the weights will be updated during the process of backpropagation.\""
      ]
    }
  ]
}