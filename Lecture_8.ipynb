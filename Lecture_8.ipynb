{
  "nbformat": 4,
  "nbformat_minor": 0,
  "metadata": {
    "colab": {
      "name": "Lecture 5.ipynb",
      "provenance": [],
      "collapsed_sections": []
    },
    "kernelspec": {
      "name": "python3",
      "display_name": "Python 3"
    }
  },
  "cells": [
    {
      "cell_type": "markdown",
      "metadata": {
        "id": "F476OY19yL8C",
        "colab_type": "text"
      },
      "source": [
        "#Lecture 8 - Hyperparameter tuning\n",
        "\n",
        "\n",
        "## 1. Introduction\n",
        "In this notebook, we will briefly show how to tune a hyperparameter by brute force. More complex hyperparameter tuning should leverage sk-learn's built-in methods... (see Discussion)\n",
        "\n",
        "<i>Note that portions of this Notebook are based on https://scikit-learn.org/0.15/auto_examples/plot_classifier_comparison.html and https://scikit-learn.org/stable/_downloads/plot_randomized_search.ipynb</i>\n",
        "\n",
        "The classifier we will be using is:\n",
        "- K-Nearest-Neighbour <i>(yes, neighbour has a 'u'...)</i>\n",
        "\n",
        "The data we will be using is the \"digits\" dataset (several descriptors of images of hand-written digits between 0-9.\n"
      ]
    },
    {
      "cell_type": "code",
      "metadata": {
        "id": "d1-XuzEdo4ts",
        "colab_type": "code",
        "colab": {}
      },
      "source": [
        "from sklearn.model_selection import train_test_split\n",
        "from sklearn.datasets import load_digits\n",
        "from sklearn.neighbors import KNeighborsClassifier\n",
        "import numpy as np\n"
      ],
      "execution_count": 0,
      "outputs": []
    },
    {
      "cell_type": "markdown",
      "metadata": {
        "id": "eCZnsSnbybUQ",
        "colab_type": "text"
      },
      "source": [
        "## 2. The Data\n",
        "\n",
        "Let's load the data\n"
      ]
    },
    {
      "cell_type": "code",
      "metadata": {
        "id": "3id7ezjlsn-J",
        "colab_type": "code",
        "outputId": "ffbc2261-b40c-4e2d-d32c-5d9c76304ae6",
        "colab": {
          "base_uri": "https://localhost:8080/",
          "height": 119
        }
      },
      "source": [
        "# Create digits dataset:\n",
        "digits = load_digits()\n",
        "X, y = digits.data, digits.target\n",
        "\n",
        "print('Shape of dataset: ', X.shape)\n",
        "print('First sample: ', X[1,])\n",
        "\n",
        "# Split the data into train/validation/test:\n",
        "X_train, X_TV, y_train, y_TV = train_test_split(X, y, test_size=.4)\n",
        "X_val, X_test, y_val, y_test = train_test_split(X_TV, y_TV, test_size=.5)\n",
        "\n",
        "print('Size of train/validation/test is: {0}/{1}/{2}'.format(X_train.shape[0], X_val.shape[0], X_test.shape[0]))"
      ],
      "execution_count": 26,
      "outputs": [
        {
          "output_type": "stream",
          "text": [
            "Shape of dataset:  (1797, 64)\n",
            "First sample:  [ 0.  0.  0. 12. 13.  5.  0.  0.  0.  0.  0. 11. 16.  9.  0.  0.  0.  0.\n",
            "  3. 15. 16.  6.  0.  0.  0.  7. 15. 16. 16.  2.  0.  0.  0.  0.  1. 16.\n",
            " 16.  3.  0.  0.  0.  0.  1. 16. 16.  6.  0.  0.  0.  0.  1. 16. 16.  6.\n",
            "  0.  0.  0.  0.  0. 11. 16. 10.  0.  0.]\n",
            "Size of train/validation/test is: 1078/359/360\n"
          ],
          "name": "stdout"
        }
      ]
    },
    {
      "cell_type": "markdown",
      "metadata": {
        "id": "QNwiL_mx4VIp",
        "colab_type": "text"
      },
      "source": [
        "Loop through all possible values of K and see which one gives the best performance on the validation set."
      ]
    },
    {
      "cell_type": "code",
      "metadata": {
        "id": "UUlklCev4ckd",
        "colab_type": "code",
        "colab": {
          "base_uri": "https://localhost:8080/",
          "height": 204
        },
        "outputId": "56416d09-155d-4f96-8123-8bc4b17d00e1"
      },
      "source": [
        "best_score = 0.0\n",
        "best_K = 0\n",
        "for K in range(1,11):\n",
        "  clf = KNeighborsClassifier(K);\n",
        "\n",
        "  # Train and test our classifier\n",
        "  clf.fit(X_train, y_train) # create classification model using training data\n",
        "  score = clf.score(X_val, y_val) # evaluate classifier on the validation set\n",
        "  print('K={0} --> score = {1:.3f}'.format(K, score))\n",
        "\n",
        "  # Keep track of the optimal K\n",
        "  if (score > best_score):\n",
        "    best_score = score\n",
        "    best_K = K\n",
        "\n",
        "print('Best K = {0} --> best_score={1:.3f}'.format(best_K, best_score))"
      ],
      "execution_count": 23,
      "outputs": [
        {
          "output_type": "stream",
          "text": [
            "K=1 --> score = 0.981\n",
            "K=2 --> score = 0.972\n",
            "K=3 --> score = 0.983\n",
            "K=4 --> score = 0.969\n",
            "K=5 --> score = 0.972\n",
            "K=6 --> score = 0.975\n",
            "K=7 --> score = 0.972\n",
            "K=8 --> score = 0.967\n",
            "K=9 --> score = 0.967\n",
            "K=10 --> score = 0.961\n",
            "Best K = 3 --> best_score=0.983\n"
          ],
          "name": "stdout"
        }
      ]
    },
    {
      "cell_type": "markdown",
      "metadata": {
        "id": "xJiFsscJDHZL",
        "colab_type": "text"
      },
      "source": [
        "Now test your final hyperparameter choice on the test set:"
      ]
    },
    {
      "cell_type": "code",
      "metadata": {
        "id": "NXcnb1XwRJv_",
        "colab_type": "code",
        "colab": {
          "base_uri": "https://localhost:8080/",
          "height": 34
        },
        "outputId": "d51c830b-55a2-44ea-ccb8-f52d69748eae"
      },
      "source": [
        "clf = KNeighborsClassifier(best_K);\n",
        "clf.fit(X_train, y_train) # create classification model using training data\n",
        "test_score = clf.score(X_test, y_test) # evaluate classifier on the validation set\n",
        "print('Best K = {0} --> test_score={1:.3f}'.format(best_K, test_score))"
      ],
      "execution_count": 24,
      "outputs": [
        {
          "output_type": "stream",
          "text": [
            "Best K = 3 --> test_score=0.978\n"
          ],
          "name": "stdout"
        }
      ]
    },
    {
      "cell_type": "markdown",
      "metadata": {
        "id": "E5UPspGuGNga",
        "colab_type": "text"
      },
      "source": [
        "## Discussion\n",
        "\n",
        "Other classifiers have more hyperparameters and a greater (infinite) range of possible values. The brute force method above becomes computationally expensive, the more hyperparameter combinations we need to evaluate. \n",
        "\n",
        "sk-learn has built-in functions for performing grid search or random search. See https://scikit-learn.org/stable/modules/grid_search.html for details."
      ]
    }
  ]
}