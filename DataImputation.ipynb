{
  "nbformat": 4,
  "nbformat_minor": 0,
  "metadata": {
    "colab": {
      "name": "Untitled0.ipynb",
      "provenance": [],
      "include_colab_link": true
    },
    "kernelspec": {
      "name": "python3",
      "display_name": "Python 3"
    }
  },
  "cells": [
    {
      "cell_type": "markdown",
      "metadata": {
        "id": "view-in-github",
        "colab_type": "text"
      },
      "source": [
        "<a href=\"https://colab.research.google.com/github/jrgreen7/SYSC4906/blob/master/DataImputation.ipynb\" target=\"_parent\"><img src=\"https://colab.research.google.com/assets/colab-badge.svg\" alt=\"Open In Colab\"/></a>"
      ]
    },
    {
      "cell_type": "markdown",
      "metadata": {
        "id": "O3Q0Vzi5y3O2",
        "colab_type": "text"
      },
      "source": [
        "#Notebook to illustrate the effect of missing data during training and testing\n",
        "\n",
        "Created by James Green, 24 Sept 2019\n",
        "\n",
        "Portions are based on \"An example machine learning notebook\", by Randal S. Olson, University of Pennsylvania Institute for Bioinformatics\n",
        "\n",
        "1. Load the original Iris Dataset (https://raw.githubusercontent.com/jrgreen7/SYSC4906/master/orig-iris-data.csv)\n",
        "2. Split data into train/test (50/50)\n",
        "3. For i = 10:10:50%\n",
        "    - Remove i% of the training data from one feature\n",
        "    - Impute missing data using mean of all data from that class\n",
        "    - Train classifier\n",
        "    - Test classifier\n",
        "    - Report score along with i\n",
        "    - Remove training rows with NaN values, retrain, retest\n"
      ]
    },
    {
      "cell_type": "code",
      "metadata": {
        "id": "VjkysY90ynGa",
        "colab_type": "code",
        "outputId": "ce8adbc2-4158-4287-a1cc-4edc95ead754",
        "colab": {
          "base_uri": "https://localhost:8080/",
          "height": 189
        }
      },
      "source": [
        "# Import libraries\n",
        "import pandas as pd\n",
        "\n",
        "# Load the dataset\n",
        "url = 'https://raw.githubusercontent.com/jrgreen7/SYSC4906/master/orig-iris-data.csv'\n",
        "iris_data = pd.read_csv(url)\n",
        "# Note that iris = seaborn.load_dataset(\"iris\") would also work (with diff column names)\n",
        "\n",
        "# Quickly visualize first few rows\n",
        "iris_data.head()\n",
        "\n",
        "# Drop all features except petal_width_cm\n",
        "iris_data.drop(['sepal_length_cm', 'petal_length_cm', 'petal_width_cm'], axis=1, inplace=True)\n",
        "\n",
        "# Describe the data (gives range of each feature, etc)\n",
        "iris_data.describe()\n",
        "\n",
        "# Plot the features, in pairs\n",
        "%matplotlib inline\n",
        "import matplotlib.pyplot as plt\n",
        "import seaborn as sb\n",
        "sb.pairplot(iris_data.dropna(), hue='class'); # Dropping NA values, but shouldn't be any yet...\n",
        "\n",
        "# Split the data (doing this in Pandas rather than using sklearn)\n",
        "iris_data_copy = iris_data.copy()\n",
        "train_set = iris_data_copy.sample(frac=0.5, random_state=0)\n",
        "test_set = iris_data_copy.drop(train_set.index)\n"
      ],
      "execution_count": 1,
      "outputs": [
        {
          "output_type": "display_data",
          "data": {
            "image/png": "[encoded data removed]",
            "text/plain": [
              "<Figure size 283.5x180 with 2 Axes>"
            ]
          },
          "metadata": {
            "tags": []
          }
        }
      ]
    },
    {
      "cell_type": "code",
      "metadata": {
        "id": "GPErIG5T5Krz",
        "colab_type": "code",
        "outputId": "15ea8c1e-64b0-4624-edc4-7b4c6c604505",
        "colab": {
          "base_uri": "https://localhost:8080/",
          "height": 134
        }
      },
      "source": [
        "import numpy as np\n",
        "from sklearn.tree import DecisionTreeClassifier\n",
        "\n",
        "# Vary the amount of missing feature values from 10% to 70%\n",
        "for i in np.linspace(0.1, 0.7, num=7):\n",
        "  missingRows = train_set.sample(frac=i, random_state=1)\n",
        "  train_set_copy = train_set.copy()\n",
        "  train_set_copy.loc[missingRows.index, 'sepal_width_cm'] = np.NaN; # Replace missing rows with NaN for sepal_width_cm feature\n",
        "\n",
        "  # Remove the missing rows prior to computing the mean of the feature:\n",
        "  train_set_noNA = train_set_copy.dropna(inplace=False)\n",
        "\n",
        "  # Compute the average petal width, for each class (yes, I'm computing the mean before removing rows...)\n",
        "  average_petal_width1 = train_set_noNA.loc[train_set_noNA['class'] == 'Iris-setosa', 'sepal_width_cm'].mean()\n",
        "  average_petal_width2 = train_set_noNA.loc[train_set_noNA['class'] == 'Iris-versicolor', 'sepal_width_cm'].mean()\n",
        "  average_petal_width3 = train_set_noNA.loc[train_set_noNA['class'] == 'Iris-virginica', 'sepal_width_cm'].mean()\n",
        "  \n",
        "  # Replace missing values with the mean value for that class\n",
        "  train_set_copy.loc[(train_set_copy['class'] == 'Iris-setosa') &\n",
        "              (train_set_copy['sepal_width_cm'].isnull()),\n",
        "              'sepal_width_cm'] = average_petal_width1\n",
        "  train_set_copy.loc[(train_set_copy['class'] == 'Iris-versicolor') &\n",
        "              (train_set_copy['sepal_width_cm'].isnull()),\n",
        "              'sepal_width_cm'] = average_petal_width2\n",
        "  train_set_copy.loc[(train_set_copy['class'] == 'Iris-virginica') &\n",
        "              (train_set_copy['sepal_width_cm'].isnull()),\n",
        "              'sepal_width_cm'] = average_petal_width3\n",
        "\n",
        "  #train_set_copy.loc[(train_set_copy['class'] == 'Iris-setosa') &\n",
        "  #            (train_set_copy['sepal_width_cm']== average_petal_width1),\n",
        "  #            'sepal_width_cm'] \n",
        "\n",
        "  # Extract the data/classes from pandas into nparrays:\n",
        "  features = train_set_copy['sepal_width_cm'].values.reshape(-1,1)\n",
        "  labels = train_set_copy['class'].values.reshape(-1,1)\n",
        "\n",
        "  # Train a DT classifier with imputation\n",
        "  decision_tree_classifier = DecisionTreeClassifier()\n",
        "  decision_tree_classifier.fit(features, labels)\n",
        "\n",
        "  # Test a DT classifier\n",
        "  test_features = test_set['sepal_width_cm'].values.reshape(-1,1)\n",
        "  test_labels = test_set['class'].values.reshape(-1,1)\n",
        "  score = decision_tree_classifier.score(test_features, test_labels)\n",
        "\n",
        "  # Train a DT classifier without imputation\n",
        "  features_noNA = train_set_noNA['sepal_width_cm'].values.reshape(-1,1)\n",
        "  labels_noNA = train_set_noNA['class'].values.reshape(-1,1)\n",
        "  decision_tree_classifier2 = DecisionTreeClassifier()\n",
        "  decision_tree_classifier2.fit(features_noNA, labels_noNA)\n",
        "  score_noNA = decision_tree_classifier2.score(test_features, test_labels)\n",
        "\n",
        "\n",
        "  # Print the score:\n",
        "  print('For {:.0f}% missing data, imputation test accuracy is {:.2f}, dropping rows achieves {:.2f}'.format(i*100, score, score_noNA))"
      ],
      "execution_count": 3,
      "outputs": [
        {
          "output_type": "stream",
          "text": [
            "For 10% missing data, imputation test accuracy is 0.49, dropping rows achieves 0.49\n",
            "For 20% missing data, imputation test accuracy is 0.45, dropping rows achieves 0.45\n",
            "For 30% missing data, imputation test accuracy is 0.43, dropping rows achieves 0.43\n",
            "For 40% missing data, imputation test accuracy is 0.49, dropping rows achieves 0.49\n",
            "For 50% missing data, imputation test accuracy is 0.55, dropping rows achieves 0.53\n",
            "For 60% missing data, imputation test accuracy is 0.60, dropping rows achieves 0.55\n",
            "For 70% missing data, imputation test accuracy is 0.49, dropping rows achieves 0.49\n"
          ],
          "name": "stdout"
        }
      ]
    },
    {
      "cell_type": "markdown",
      "metadata": {
        "id": "VFAIxAcPdTWA",
        "colab_type": "text"
      },
      "source": [
        "## Discussion\n",
        "What if feature data were missing from the test data? How would you impute the missing feature values? Would it have more or less of an effect than missing data during training?"
      ]
    }
  ]
}