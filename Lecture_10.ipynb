{
  "nbformat": 4,
  "nbformat_minor": 0,
  "metadata": {
    "colab": {
      "name": "Lecture_10.ipynb",
      "provenance": [],
      "machine_shape": "hm",
      "include_colab_link": true
    },
    "kernelspec": {
      "name": "python3",
      "display_name": "Python 3"
    },
    "accelerator": "GPU"
  },
  "cells": [
    {
      "cell_type": "markdown",
      "metadata": {
        "id": "view-in-github",
        "colab_type": "text"
      },
      "source": [
        "<a href=\"https://colab.research.google.com/github/jrgreen7/SYSC4906/blob/master/Lecture_10.ipynb\" target=\"_parent\"><img src=\"https://colab.research.google.com/assets/colab-badge.svg\" alt=\"Open In Colab\"/></a>"
      ]
    },
    {
      "cell_type": "markdown",
      "metadata": {
        "id": "XjhSM3n8jtvx",
        "colab_type": "text"
      },
      "source": [
        "# Notebook to build VGG16 CNN classifier for the CIFAR-10 dataset\n",
        "Created by James Green, Oct 2019\n",
        "- Notebook follows tutorial at https://www.pyimagesearch.com/2018/10/08/keras-vs-tensorflow-which-one-is-better-and-which-one-should-i-learn/\n",
        "- VGG16 developed by the VGG (Visual Geometry Group, University of Oxford) for the ILSVRC-2014 competition. \n",
        "    - Published at: https://arxiv.org/abs/1409.1556 \n",
        "    - Note that VGG16 is available (pre-trained) through Keras.applications\n",
        "```python\n",
        "        from keras.applications import VGG16\n",
        "        VGG16.summary() # Print a summary of the network structure\n",
        "```\n",
        "    - VGGNet-like architectures are characterized by: \n",
        "        1. Using only 3×3 convolutional layers stacked on top of each other in increasing depth\n",
        "        2. Reducing volume size by max pooling\n",
        "        3. Fully-connected layers at the end of the network prior to a softmax classifier\n",
        "        *(from https://www.pyimagesearch.com/2018/04/16/keras-and-convolutional-neural-networks-cnns/)*\n",
        "- The CIFAR-10 image dataset published at: https://www.cs.toronto.edu/~kriz/cifar.html"
      ]
    },
    {
      "cell_type": "code",
      "metadata": {
        "id": "qT5h_hOcPNsr",
        "colab_type": "code",
        "colab": {
          "base_uri": "https://localhost:8080/",
          "height": 34
        },
        "outputId": "5b6e6127-5097-464a-aaf7-9be5f99c26c2"
      },
      "source": [
        "# import the necessary packages\n",
        "from keras.layers.normalization import BatchNormalization\n",
        "from keras.layers.convolutional import Conv2D\n",
        "from keras.layers.convolutional import MaxPooling2D\n",
        "from keras.layers.core import Activation\n",
        "from keras.layers.core import Dropout\n",
        "from keras.layers.core import Dense\n",
        "from keras.layers import Flatten\n",
        "from keras.layers import Input\n",
        "from keras.models import Model"
      ],
      "execution_count": 1,
      "outputs": [
        {
          "output_type": "stream",
          "text": [
            "Using TensorFlow backend.\n"
          ],
          "name": "stderr"
        }
      ]
    },
    {
      "cell_type": "markdown",
      "metadata": {
        "id": "VaC0vSNCz1zm",
        "colab_type": "text"
      },
      "source": [
        "# Define a \"MiniVGGNetKeras\" class that will build the VGG deep net when build() is invoked"
      ]
    },
    {
      "cell_type": "code",
      "metadata": {
        "id": "CSnX1H7l3Dpy",
        "colab_type": "code",
        "colab": {}
      },
      "source": [
        "# Define a class to represent the VGG16 network. Instantiate using build()\n",
        "class MiniVGGNetKeras:\n",
        "\t@staticmethod\n",
        "\tdef build(width, height, depth, classes):\n",
        "\t\t# initialize the input shape and channel dimension, assuming\n",
        "\t\t# TensorFlow/channels-last ordering\n",
        "\t\tinputShape = (height, width, depth)\n",
        "\t\tchanDim = -1\n",
        " \n",
        "\t\t# define the model input (layer)\n",
        "\t\tinputs = Input(shape=inputShape)\n",
        "  \n",
        "  \t# first (CONV => RELU) * 2 => POOL layer set\n",
        "\t\tx = Conv2D(32, (3, 3), padding=\"same\")(inputs)  # padding=same --> output same size as input by padding by filter/2 rows/cols of zeros\n",
        "\t\tx = Activation(\"relu\")(x) # Add a rectified linear unit activation function to each conv layer\n",
        "\t\tx = BatchNormalization(axis=chanDim)(x)  # Use batch normalization. We will talk about this later\n",
        "\t\tx = Conv2D(32, (3, 3), padding=\"same\")(x)\n",
        "\t\tx = Activation(\"relu\")(x)\n",
        "\t\tx = BatchNormalization(axis=chanDim)(x)\n",
        "\t\tx = MaxPooling2D(pool_size=(2, 2))(x) # MaxPooling uased after the first 2 conv layers. Reduces size of subsequent layers by down-sampling\n",
        "\t\tx = Dropout(0.25)(x)  # Dropout used to promote generalization. We'll talk about this layer type later in the course...\n",
        " \n",
        "\t\t# second (CONV => RELU) * 2 => POOL layer set\n",
        "\t\tx = Conv2D(64, (3, 3), padding=\"same\")(x)\n",
        "\t\tx = Activation(\"relu\")(x)\n",
        "\t\tx = BatchNormalization(axis=chanDim)(x)\n",
        "\t\tx = Conv2D(64, (3, 3), padding=\"same\")(x)\n",
        "\t\tx = Activation(\"relu\")(x)\n",
        "\t\tx = BatchNormalization(axis=chanDim)(x)\n",
        "\t\tx = MaxPooling2D(pool_size=(2, 2))(x)\n",
        "\t\tx = Dropout(0.25)(x)\n",
        "  \n",
        "    # first (and only) set of FC => RELU layers\n",
        "\t\tx = Flatten()(x)  ## Flatten the 2D maxPooling2D layer to feed into a fully-connected layer\n",
        "\t\tx = Dense(512)(x)\n",
        "\t\tx = Activation(\"relu\")(x)\n",
        "\t\tx = BatchNormalization()(x)\n",
        "\t\tx = Dropout(0.5)(x)\n",
        " \n",
        "\t\t# Softmax classifier layer for arriving at normalized prediction scores for multi-class problem. \n",
        "    # Softmax assigns decimal probabilities to each class in a multi-class problem. Those decimal probabilities must add up to 1.0.\n",
        "    # Only makes sense when each image is expected to represent a single class (not a dog & a cat simultaneously)\n",
        "\t\tx = Dense(classes)(x)\n",
        "\t\tx = Activation(\"softmax\")(x)\n",
        " \n",
        "\t\t# create the model\n",
        "\t\tmodel = Model(inputs, x, name=\"minivggnet_keras\")\n",
        " \n",
        "\t\t# return the constructed network architecture\n",
        "\t\treturn model"
      ],
      "execution_count": 0,
      "outputs": []
    },
    {
      "cell_type": "markdown",
      "metadata": {
        "id": "QBlf-SNB0a3T",
        "colab_type": "text"
      },
      "source": [
        "# Download and prepare the CIFAR-10 dataset"
      ]
    },
    {
      "cell_type": "code",
      "metadata": {
        "id": "tNIPZtw30ejP",
        "colab_type": "code",
        "colab": {
          "base_uri": "https://localhost:8080/",
          "height": 68
        },
        "outputId": "ffff9206-972e-43c6-ec27-890f9b17748b"
      },
      "source": [
        "from sklearn.preprocessing import LabelBinarizer ## For 1-hot encoding of 10 class labels\n",
        "from keras.datasets import cifar10  ## Built-in dataset of images.\n",
        "\n",
        "# load the training and testing data, then scale it into the\n",
        "# range [0, 1]\n",
        "print(\"[INFO] loading CIFAR-10 data...\")\n",
        "split = cifar10.load_data()\n",
        "((trainX, trainY), (testX, testY)) = split\n",
        "trainX = trainX.astype(\"float\") / 255.0\n",
        "testX = testX.astype(\"float\") / 255.0\n",
        " \n",
        "# convert the labels from integers to vectors\n",
        "lb = LabelBinarizer()\n",
        "trainY = lb.fit_transform(trainY)\n",
        "testY = lb.transform(testY)\n",
        " \n",
        "# initialize the label names for the CIFAR-10 dataset\n",
        "labelNames = [\"airplane\", \"automobile\", \"bird\", \"cat\", \"deer\",\n",
        "\t\"dog\", \"frog\", \"horse\", \"ship\", \"truck\"]\n"
      ],
      "execution_count": 3,
      "outputs": [
        {
          "output_type": "stream",
          "text": [
            "[INFO] loading CIFAR-10 data...\n",
            "Downloading data from https://www.cs.toronto.edu/~kriz/cifar-10-python.tar.gz\n",
            "170500096/170498071 [==============================] - 7s 0us/step\n"
          ],
          "name": "stdout"
        }
      ]
    },
    {
      "cell_type": "markdown",
      "metadata": {
        "id": "ME1RYqOJz-9O",
        "colab_type": "text"
      },
      "source": [
        "# Build and train a VGG16 model using the CIFAR-10 dataset"
      ]
    },
    {
      "cell_type": "code",
      "metadata": {
        "id": "kKoxYc5f8_9y",
        "colab_type": "code",
        "colab": {
          "base_uri": "https://localhost:8080/",
          "height": 1000
        },
        "outputId": "42764553-375a-4d15-c553-dc64dc91a26d"
      },
      "source": [
        "# set the matplotlib backend so figures can be saved in the background\n",
        "import matplotlib\n",
        "#matplotlib.use(\"Agg\") ## so that we can save our training plots as image files.\n",
        "%matplotlib inline\n",
        "\n",
        "# import the necessary packages\n",
        "from sklearn.metrics import classification_report\n",
        "from keras.optimizers import SGD\n",
        "import matplotlib.pyplot as plt\n",
        "import numpy as np\n",
        " \n",
        "#plot_fname = 'keras_learning_curve.png'\n",
        "\n",
        "# initialize the initial learning rate, total number of epochs to\n",
        "# train for, and batch size\n",
        "INIT_LR = 0.01\n",
        "EPOCHS = 30 # Each epoch takes 450s using CPU and only ~30s using GPU (Runtime->Change runtime->EnableGPU)\n",
        "BS = 32\n",
        " \n",
        "# initialize the optimizer and model\n",
        "print(\"[INFO] compiling model...\")\n",
        "opt = SGD(lr=INIT_LR, decay=INIT_LR / EPOCHS)\n",
        "model = MiniVGGNetKeras.build(width=32, height=32, depth=3,\n",
        "\tclasses=len(labelNames))\n",
        "model.compile(loss=\"categorical_crossentropy\", optimizer=opt,\n",
        "\tmetrics=[\"accuracy\"])\n",
        "\n",
        "# Visualize the network structure (image is cropped unfortunately...)\n",
        "#from IPython.display import SVG\n",
        "#from keras.utils.vis_utils import model_to_dot\n",
        "#SVG(model_to_dot(model).create(prog='dot', format='svg'))\n",
        "\n",
        "# train the network\n",
        "print(\"[INFO] training network for {0:d} epochs...\".format(EPOCHS))\n",
        "H = model.fit(trainX, trainY, validation_data=(testX, testY),\n",
        "\tbatch_size=BS, epochs=EPOCHS, verbose=1)\n",
        " \n",
        "# plot the training loss and accuracy\n",
        "plt.style.use(\"ggplot\")\n",
        "plt.figure()\n",
        "plt.plot(np.arange(0, EPOCHS), H.history[\"loss\"], label=\"train_loss\")\n",
        "plt.plot(np.arange(0, EPOCHS), H.history[\"val_loss\"], label=\"val_loss\")\n",
        "plt.plot(np.arange(0, EPOCHS), H.history[\"acc\"], label=\"train_acc\")\n",
        "plt.plot(np.arange(0, EPOCHS), H.history[\"val_acc\"], label=\"val_acc\")\n",
        "plt.title(\"Training Loss and Accuracy on Dataset\")\n",
        "plt.xlabel(\"Epoch #\")\n",
        "plt.ylabel(\"Loss/Accuracy\")\n",
        "plt.legend(loc=\"lower left\")\n",
        "#plt.savefig(plot_fname)\n",
        "plt.show()\n"
      ],
      "execution_count": 4,
      "outputs": [
        {
          "output_type": "stream",
          "text": [
            "[INFO] compiling model...\n",
            "WARNING:tensorflow:From /usr/local/lib/python3.6/dist-packages/keras/backend/tensorflow_backend.py:66: The name tf.get_default_graph is deprecated. Please use tf.compat.v1.get_default_graph instead.\n",
            "\n",
            "WARNING:tensorflow:From /usr/local/lib/python3.6/dist-packages/keras/backend/tensorflow_backend.py:2041: The name tf.nn.fused_batch_norm is deprecated. Please use tf.compat.v1.nn.fused_batch_norm instead.\n",
            "\n",
            "WARNING:tensorflow:From /usr/local/lib/python3.6/dist-packages/keras/backend/tensorflow_backend.py:3733: calling dropout (from tensorflow.python.ops.nn_ops) with keep_prob is deprecated and will be removed in a future version.\n",
            "Instructions for updating:\n",
            "Please use `rate` instead of `keep_prob`. Rate should be set to `rate = 1 - keep_prob`.\n",
            "WARNING:tensorflow:From /usr/local/lib/python3.6/dist-packages/keras/optimizers.py:793: The name tf.train.Optimizer is deprecated. Please use tf.compat.v1.train.Optimizer instead.\n",
            "\n",
            "[INFO] training network for 30 epochs...\n",
            "WARNING:tensorflow:From /usr/local/lib/python3.6/dist-packages/tensorflow_core/python/ops/math_grad.py:1424: where (from tensorflow.python.ops.array_ops) is deprecated and will be removed in a future version.\n",
            "Instructions for updating:\n",
            "Use tf.where in 2.0, which has the same broadcast rule as np.where\n",
            "Train on 50000 samples, validate on 10000 samples\n",
            "Epoch 1/30\n",
            "50000/50000 [==============================] - 30s 601us/step - loss: 1.7728 - acc: 0.4137 - val_loss: 1.3418 - val_acc: 0.5181\n",
            "Epoch 2/30\n",
            "50000/50000 [==============================] - 26s 515us/step - loss: 1.3021 - acc: 0.5356 - val_loss: 1.1550 - val_acc: 0.5953\n",
            "Epoch 3/30\n",
            "50000/50000 [==============================] - 26s 512us/step - loss: 1.1738 - acc: 0.5822 - val_loss: 1.0482 - val_acc: 0.6281\n",
            "Epoch 4/30\n",
            "50000/50000 [==============================] - 26s 516us/step - loss: 1.0868 - acc: 0.6151 - val_loss: 0.9811 - val_acc: 0.6526\n",
            "Epoch 5/30\n",
            "50000/50000 [==============================] - 26s 513us/step - loss: 1.0325 - acc: 0.6349 - val_loss: 0.9728 - val_acc: 0.6594\n",
            "Epoch 6/30\n",
            "50000/50000 [==============================] - 26s 515us/step - loss: 0.9929 - acc: 0.6504 - val_loss: 0.9288 - val_acc: 0.6750\n",
            "Epoch 7/30\n",
            "50000/50000 [==============================] - 26s 514us/step - loss: 0.9620 - acc: 0.6616 - val_loss: 0.8720 - val_acc: 0.6983\n",
            "Epoch 8/30\n",
            "50000/50000 [==============================] - 26s 513us/step - loss: 0.9393 - acc: 0.6707 - val_loss: 0.8714 - val_acc: 0.6954\n",
            "Epoch 9/30\n",
            "50000/50000 [==============================] - 26s 520us/step - loss: 0.9138 - acc: 0.6768 - val_loss: 0.8808 - val_acc: 0.6925\n",
            "Epoch 10/30\n",
            "50000/50000 [==============================] - 26s 513us/step - loss: 0.9002 - acc: 0.6834 - val_loss: 0.8456 - val_acc: 0.7069\n",
            "Epoch 11/30\n",
            "50000/50000 [==============================] - 26s 513us/step - loss: 0.8821 - acc: 0.6891 - val_loss: 0.8308 - val_acc: 0.7097\n",
            "Epoch 12/30\n",
            "50000/50000 [==============================] - 26s 513us/step - loss: 0.8723 - acc: 0.6942 - val_loss: 0.8315 - val_acc: 0.7110\n",
            "Epoch 13/30\n",
            "50000/50000 [==============================] - 26s 514us/step - loss: 0.8592 - acc: 0.6966 - val_loss: 0.8515 - val_acc: 0.7012\n",
            "Epoch 14/30\n",
            "50000/50000 [==============================] - 26s 512us/step - loss: 0.8563 - acc: 0.6988 - val_loss: 0.8030 - val_acc: 0.7211\n",
            "Epoch 15/30\n",
            "50000/50000 [==============================] - 26s 514us/step - loss: 0.8451 - acc: 0.7024 - val_loss: 0.8141 - val_acc: 0.7185\n",
            "Epoch 16/30\n",
            "50000/50000 [==============================] - 26s 515us/step - loss: 0.8394 - acc: 0.7054 - val_loss: 0.8116 - val_acc: 0.7181\n",
            "Epoch 17/30\n",
            "50000/50000 [==============================] - 26s 512us/step - loss: 0.8303 - acc: 0.7087 - val_loss: 0.7873 - val_acc: 0.7276\n",
            "Epoch 18/30\n",
            "50000/50000 [==============================] - 26s 514us/step - loss: 0.8193 - acc: 0.7142 - val_loss: 0.8031 - val_acc: 0.7210\n",
            "Epoch 19/30\n",
            "50000/50000 [==============================] - 26s 511us/step - loss: 0.8075 - acc: 0.7161 - val_loss: 0.7684 - val_acc: 0.7324\n",
            "Epoch 20/30\n",
            "50000/50000 [==============================] - 26s 513us/step - loss: 0.8084 - acc: 0.7168 - val_loss: 0.7885 - val_acc: 0.7266\n",
            "Epoch 21/30\n",
            "50000/50000 [==============================] - 26s 520us/step - loss: 0.8027 - acc: 0.7185 - val_loss: 0.7670 - val_acc: 0.7339\n",
            "Epoch 22/30\n",
            "50000/50000 [==============================] - 26s 513us/step - loss: 0.7946 - acc: 0.7214 - val_loss: 0.7804 - val_acc: 0.7305\n",
            "Epoch 23/30\n",
            "50000/50000 [==============================] - 26s 514us/step - loss: 0.7934 - acc: 0.7213 - val_loss: 0.7936 - val_acc: 0.7263\n",
            "Epoch 24/30\n",
            "50000/50000 [==============================] - 26s 514us/step - loss: 0.7922 - acc: 0.7209 - val_loss: 0.7825 - val_acc: 0.7290\n",
            "Epoch 25/30\n",
            "50000/50000 [==============================] - 26s 514us/step - loss: 0.7842 - acc: 0.7255 - val_loss: 0.7600 - val_acc: 0.7349\n",
            "Epoch 26/30\n",
            "50000/50000 [==============================] - 26s 513us/step - loss: 0.7842 - acc: 0.7264 - val_loss: 0.7607 - val_acc: 0.7370\n",
            "Epoch 27/30\n",
            "50000/50000 [==============================] - 26s 515us/step - loss: 0.7813 - acc: 0.7270 - val_loss: 0.7609 - val_acc: 0.7353\n",
            "Epoch 28/30\n",
            "50000/50000 [==============================] - 26s 516us/step - loss: 0.7685 - acc: 0.7316 - val_loss: 0.7656 - val_acc: 0.7355\n",
            "Epoch 29/30\n",
            "50000/50000 [==============================] - 26s 514us/step - loss: 0.7732 - acc: 0.7304 - val_loss: 0.7427 - val_acc: 0.7435\n",
            "Epoch 30/30\n",
            "50000/50000 [==============================] - 26s 513us/step - loss: 0.7691 - acc: 0.7311 - val_loss: 0.7483 - val_acc: 0.7414\n"
          ],
          "name": "stdout"
        },
        {
          "output_type": "display_data",
          "data": {
            "image/png": "[encoded data removed]",
            "text/plain": [
              "<Figure size 432x288 with 1 Axes>"
            ]
          },
          "metadata": {
            "tags": []
          }
        }
      ]
    },
    {
      "cell_type": "markdown",
      "metadata": {
        "id": "fytqSXt01JXU",
        "colab_type": "text"
      },
      "source": [
        "# Test the trained VGG16 network on the test data"
      ]
    },
    {
      "cell_type": "code",
      "metadata": {
        "id": "Z3E5lq9E1T9o",
        "colab_type": "code",
        "colab": {
          "base_uri": "https://localhost:8080/",
          "height": 323
        },
        "outputId": "c4c052c1-f956-4e3a-e6f3-d770bab6a4a6"
      },
      "source": [
        "# evaluate the network\n",
        "print(\"[INFO] evaluating network...\")\n",
        "predictions = model.predict(testX, batch_size=32)\n",
        "print(classification_report(testY.argmax(axis=1),  ## classification_report() outputs the precision etc for each class\n",
        "\tpredictions.argmax(axis=1), target_names=labelNames))\n"
      ],
      "execution_count": 5,
      "outputs": [
        {
          "output_type": "stream",
          "text": [
            "[INFO] evaluating network...\n",
            "              precision    recall  f1-score   support\n",
            "\n",
            "    airplane       0.85      0.67      0.75      1000\n",
            "  automobile       0.93      0.78      0.84      1000\n",
            "        bird       0.75      0.53      0.62      1000\n",
            "         cat       0.56      0.55      0.56      1000\n",
            "        deer       0.62      0.78      0.69      1000\n",
            "         dog       0.65      0.67      0.66      1000\n",
            "        frog       0.70      0.91      0.79      1000\n",
            "       horse       0.85      0.74      0.79      1000\n",
            "        ship       0.83      0.90      0.86      1000\n",
            "       truck       0.78      0.89      0.83      1000\n",
            "\n",
            "    accuracy                           0.74     10000\n",
            "   macro avg       0.75      0.74      0.74     10000\n",
            "weighted avg       0.75      0.74      0.74     10000\n",
            "\n"
          ],
          "name": "stdout"
        }
      ]
    },
    {
      "cell_type": "markdown",
      "metadata": {
        "id": "IO7YLb4PlGDf",
        "colab_type": "text"
      },
      "source": [
        "# Try the pre-trained VGG16 model from Keras"
      ]
    },
    {
      "cell_type": "code",
      "metadata": {
        "id": "Frp2bv47lBEI",
        "colab_type": "code",
        "colab": {
          "base_uri": "https://localhost:8080/",
          "height": 460
        },
        "outputId": "28724280-6620-4ff5-de65-f91a3155c50b"
      },
      "source": [
        "from keras.applications.vgg16 import VGG16\n",
        "from keras.preprocessing import image\n",
        "from keras.applications.vgg16 import preprocess_input, decode_predictions\n",
        "import cv2  # OpenCV. Useful for loading/manipulating/saving images\n",
        "import numpy as np\n",
        "\n",
        "print('Shape of original test data:', testX.shape)\n",
        "# Load the built-in pre-trained VGG16 model and apply it to the test set\n",
        "pretrained_model = VGG16(weights='imagenet', include_top=True)\n",
        "\n",
        "# Need to resize the test images from 32x32 to 244x244 to work with the pre-trained VGG16 network\n",
        "def resize_data(data):\n",
        "    data_upscaled = np.zeros((data.shape[0], 244, 244, 3))\n",
        "    for i, img in enumerate(data):\n",
        "        large_img = cv2.resize(img, dsize=(244, 244), interpolation=cv2.INTER_CUBIC)\n",
        "        data_upscaled[i] = large_img\n",
        "\n",
        "    return data_upscaled\n",
        "\n",
        "# resize test data\n",
        "x_test_resized = resize_data(testX)\n",
        "print('Shape of resized test data:', x_test_resized.shape)\n",
        "\n",
        "# evaluate the network\n",
        "## Getting an error; giving up. If anyone can solve this, please email me and I'll update the example!\n",
        "print(\"[INFO] evaluating network...\")\n",
        "predictions = pretrained_model.predict(x_test_resized, batch_size=32)\n",
        "print(classification_report(testY.argmax(axis=1),\n",
        "\tpredictions.argmax(axis=1), target_names=labelNames))\n",
        " "
      ],
      "execution_count": 6,
      "outputs": [
        {
          "output_type": "stream",
          "text": [
            "Shape of original test data: (10000, 32, 32, 3)\n",
            "Downloading data from https://github.com/fchollet/deep-learning-models/releases/download/v0.1/vgg16_weights_tf_dim_ordering_tf_kernels.h5\n",
            "553467904/553467096 [==============================] - 17s 0us/step\n",
            "Shape of resized test data: (10000, 244, 244, 3)\n",
            "[INFO] evaluating network...\n"
          ],
          "name": "stdout"
        },
        {
          "output_type": "error",
          "ename": "ValueError",
          "evalue": "ignored",
          "traceback": [
            "\u001b[0;31m---------------------------------------------------------------------------\u001b[0m",
            "\u001b[0;31mValueError\u001b[0m                                Traceback (most recent call last)",
            "\u001b[0;32m<ipython-input-6-b57a77282dca>\u001b[0m in \u001b[0;36m<module>\u001b[0;34m()\u001b[0m\n\u001b[1;32m     25\u001b[0m \u001b[0;31m## Getting an error; giving up. If anyone can solve this, please email me and I'll update the example!\u001b[0m\u001b[0;34m\u001b[0m\u001b[0;34m\u001b[0m\u001b[0;34m\u001b[0m\u001b[0m\n\u001b[1;32m     26\u001b[0m \u001b[0mprint\u001b[0m\u001b[0;34m(\u001b[0m\u001b[0;34m\"[INFO] evaluating network...\"\u001b[0m\u001b[0;34m)\u001b[0m\u001b[0;34m\u001b[0m\u001b[0;34m\u001b[0m\u001b[0m\n\u001b[0;32m---> 27\u001b[0;31m \u001b[0mpredictions\u001b[0m \u001b[0;34m=\u001b[0m \u001b[0mpretrained_model\u001b[0m\u001b[0;34m.\u001b[0m\u001b[0mpredict\u001b[0m\u001b[0;34m(\u001b[0m\u001b[0mx_test_resized\u001b[0m\u001b[0;34m,\u001b[0m \u001b[0mbatch_size\u001b[0m\u001b[0;34m=\u001b[0m\u001b[0;36m32\u001b[0m\u001b[0;34m)\u001b[0m\u001b[0;34m\u001b[0m\u001b[0;34m\u001b[0m\u001b[0m\n\u001b[0m\u001b[1;32m     28\u001b[0m print(classification_report(testY.argmax(axis=1),\n\u001b[1;32m     29\u001b[0m \tpredictions.argmax(axis=1), target_names=labelNames))\n",
            "\u001b[0;32m/usr/local/lib/python3.6/dist-packages/keras/engine/training.py\u001b[0m in \u001b[0;36mpredict\u001b[0;34m(self, x, batch_size, verbose, steps, callbacks, max_queue_size, workers, use_multiprocessing)\u001b[0m\n\u001b[1;32m   1378\u001b[0m \u001b[0;34m\u001b[0m\u001b[0m\n\u001b[1;32m   1379\u001b[0m         \u001b[0;31m# Case 2: Symbolic tensors or Numpy array-like.\u001b[0m\u001b[0;34m\u001b[0m\u001b[0;34m\u001b[0m\u001b[0;34m\u001b[0m\u001b[0m\n\u001b[0;32m-> 1380\u001b[0;31m         \u001b[0mx\u001b[0m\u001b[0;34m,\u001b[0m \u001b[0m_\u001b[0m\u001b[0;34m,\u001b[0m \u001b[0m_\u001b[0m \u001b[0;34m=\u001b[0m \u001b[0mself\u001b[0m\u001b[0;34m.\u001b[0m\u001b[0m_standardize_user_data\u001b[0m\u001b[0;34m(\u001b[0m\u001b[0mx\u001b[0m\u001b[0;34m)\u001b[0m\u001b[0;34m\u001b[0m\u001b[0;34m\u001b[0m\u001b[0m\n\u001b[0m\u001b[1;32m   1381\u001b[0m         \u001b[0;32mif\u001b[0m \u001b[0mself\u001b[0m\u001b[0;34m.\u001b[0m\u001b[0mstateful\u001b[0m\u001b[0;34m:\u001b[0m\u001b[0;34m\u001b[0m\u001b[0;34m\u001b[0m\u001b[0m\n\u001b[1;32m   1382\u001b[0m             \u001b[0;32mif\u001b[0m \u001b[0mx\u001b[0m\u001b[0;34m[\u001b[0m\u001b[0;36m0\u001b[0m\u001b[0;34m]\u001b[0m\u001b[0;34m.\u001b[0m\u001b[0mshape\u001b[0m\u001b[0;34m[\u001b[0m\u001b[0;36m0\u001b[0m\u001b[0;34m]\u001b[0m \u001b[0;34m>\u001b[0m \u001b[0mbatch_size\u001b[0m \u001b[0;32mand\u001b[0m \u001b[0mx\u001b[0m\u001b[0;34m[\u001b[0m\u001b[0;36m0\u001b[0m\u001b[0;34m]\u001b[0m\u001b[0;34m.\u001b[0m\u001b[0mshape\u001b[0m\u001b[0;34m[\u001b[0m\u001b[0;36m0\u001b[0m\u001b[0;34m]\u001b[0m \u001b[0;34m%\u001b[0m \u001b[0mbatch_size\u001b[0m \u001b[0;34m!=\u001b[0m \u001b[0;36m0\u001b[0m\u001b[0;34m:\u001b[0m\u001b[0;34m\u001b[0m\u001b[0;34m\u001b[0m\u001b[0m\n",
            "\u001b[0;32m/usr/local/lib/python3.6/dist-packages/keras/engine/training.py\u001b[0m in \u001b[0;36m_standardize_user_data\u001b[0;34m(self, x, y, sample_weight, class_weight, check_array_lengths, batch_size)\u001b[0m\n\u001b[1;32m    755\u001b[0m             \u001b[0mfeed_input_shapes\u001b[0m\u001b[0;34m,\u001b[0m\u001b[0;34m\u001b[0m\u001b[0;34m\u001b[0m\u001b[0m\n\u001b[1;32m    756\u001b[0m             \u001b[0mcheck_batch_axis\u001b[0m\u001b[0;34m=\u001b[0m\u001b[0;32mFalse\u001b[0m\u001b[0;34m,\u001b[0m  \u001b[0;31m# Don't enforce the batch size.\u001b[0m\u001b[0;34m\u001b[0m\u001b[0;34m\u001b[0m\u001b[0m\n\u001b[0;32m--> 757\u001b[0;31m             exception_prefix='input')\n\u001b[0m\u001b[1;32m    758\u001b[0m \u001b[0;34m\u001b[0m\u001b[0m\n\u001b[1;32m    759\u001b[0m         \u001b[0;32mif\u001b[0m \u001b[0my\u001b[0m \u001b[0;32mis\u001b[0m \u001b[0;32mnot\u001b[0m \u001b[0;32mNone\u001b[0m\u001b[0;34m:\u001b[0m\u001b[0;34m\u001b[0m\u001b[0;34m\u001b[0m\u001b[0m\n",
            "\u001b[0;32m/usr/local/lib/python3.6/dist-packages/keras/engine/training_utils.py\u001b[0m in \u001b[0;36mstandardize_input_data\u001b[0;34m(data, names, shapes, check_batch_axis, exception_prefix)\u001b[0m\n\u001b[1;32m    139\u001b[0m                             \u001b[0;34m': expected '\u001b[0m \u001b[0;34m+\u001b[0m \u001b[0mnames\u001b[0m\u001b[0;34m[\u001b[0m\u001b[0mi\u001b[0m\u001b[0;34m]\u001b[0m \u001b[0;34m+\u001b[0m \u001b[0;34m' to have shape '\u001b[0m \u001b[0;34m+\u001b[0m\u001b[0;34m\u001b[0m\u001b[0;34m\u001b[0m\u001b[0m\n\u001b[1;32m    140\u001b[0m                             \u001b[0mstr\u001b[0m\u001b[0;34m(\u001b[0m\u001b[0mshape\u001b[0m\u001b[0;34m)\u001b[0m \u001b[0;34m+\u001b[0m \u001b[0;34m' but got array with shape '\u001b[0m \u001b[0;34m+\u001b[0m\u001b[0;34m\u001b[0m\u001b[0;34m\u001b[0m\u001b[0m\n\u001b[0;32m--> 141\u001b[0;31m                             str(data_shape))\n\u001b[0m\u001b[1;32m    142\u001b[0m     \u001b[0;32mreturn\u001b[0m \u001b[0mdata\u001b[0m\u001b[0;34m\u001b[0m\u001b[0;34m\u001b[0m\u001b[0m\n\u001b[1;32m    143\u001b[0m \u001b[0;34m\u001b[0m\u001b[0m\n",
            "\u001b[0;31mValueError\u001b[0m: Error when checking input: expected input_2 to have shape (224, 224, 3) but got array with shape (244, 244, 3)"
          ]
        }
      ]
    }
  ]
}